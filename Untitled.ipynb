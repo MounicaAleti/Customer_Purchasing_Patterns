{
 "cells": [
  {
   "cell_type": "code",
   "execution_count": 23,
   "metadata": {},
   "outputs": [],
   "source": [
    "import pandas as pd\n",
    "import numpy as np"
   ]
  },
  {
   "cell_type": "code",
   "execution_count": 31,
   "metadata": {},
   "outputs": [],
   "source": [
    "Customer_Attr = pd.read_csv(\"customer_data_2014-15_attr.csv\")"
   ]
  },
  {
   "cell_type": "code",
   "execution_count": 32,
   "metadata": {},
   "outputs": [],
   "source": [
    "Customer_Visit = pd.read_csv(\"customer_data_2015_visited.csv\")"
   ]
  },
  {
   "cell_type": "code",
   "execution_count": 52,
   "metadata": {},
   "outputs": [],
   "source": [
    "Customer_Tras = pd.read_csv(\"customer_data3_2015_transactions.csv\")"
   ]
  },
  {
   "cell_type": "code",
   "execution_count": 53,
   "metadata": {},
   "outputs": [
    {
     "data": {
      "text/html": [
       "<div>\n",
       "<style scoped>\n",
       "    .dataframe tbody tr th:only-of-type {\n",
       "        vertical-align: middle;\n",
       "    }\n",
       "\n",
       "    .dataframe tbody tr th {\n",
       "        vertical-align: top;\n",
       "    }\n",
       "\n",
       "    .dataframe thead th {\n",
       "        text-align: right;\n",
       "    }\n",
       "</style>\n",
       "<table border=\"1\" class=\"dataframe\">\n",
       "  <thead>\n",
       "    <tr style=\"text-align: right;\">\n",
       "      <th></th>\n",
       "      <th>transactionID</th>\n",
       "      <th>Spends</th>\n",
       "      <th>CustomerID</th>\n",
       "      <th>transactionDate</th>\n",
       "    </tr>\n",
       "  </thead>\n",
       "  <tbody>\n",
       "    <tr>\n",
       "      <td>0</td>\n",
       "      <td>1000001</td>\n",
       "      <td>16</td>\n",
       "      <td>843140</td>\n",
       "      <td>2015-01-01</td>\n",
       "    </tr>\n",
       "    <tr>\n",
       "      <td>1</td>\n",
       "      <td>1000002</td>\n",
       "      <td>31</td>\n",
       "      <td>697698</td>\n",
       "      <td>2015-01-01</td>\n",
       "    </tr>\n",
       "    <tr>\n",
       "      <td>2</td>\n",
       "      <td>1000003</td>\n",
       "      <td>27</td>\n",
       "      <td>746282</td>\n",
       "      <td>2015-01-01</td>\n",
       "    </tr>\n",
       "    <tr>\n",
       "      <td>3</td>\n",
       "      <td>1000004</td>\n",
       "      <td>28</td>\n",
       "      <td>645145</td>\n",
       "      <td>2015-01-01</td>\n",
       "    </tr>\n",
       "    <tr>\n",
       "      <td>4</td>\n",
       "      <td>1000005</td>\n",
       "      <td>22</td>\n",
       "      <td>766577</td>\n",
       "      <td>2015-01-01</td>\n",
       "    </tr>\n",
       "    <tr>\n",
       "      <td>...</td>\n",
       "      <td>...</td>\n",
       "      <td>...</td>\n",
       "      <td>...</td>\n",
       "      <td>...</td>\n",
       "    </tr>\n",
       "    <tr>\n",
       "      <td>2844427</td>\n",
       "      <td>3844428</td>\n",
       "      <td>16</td>\n",
       "      <td>710852</td>\n",
       "      <td>2015-12-31</td>\n",
       "    </tr>\n",
       "    <tr>\n",
       "      <td>2844428</td>\n",
       "      <td>3844429</td>\n",
       "      <td>39</td>\n",
       "      <td>840213</td>\n",
       "      <td>2015-12-31</td>\n",
       "    </tr>\n",
       "    <tr>\n",
       "      <td>2844429</td>\n",
       "      <td>3844430</td>\n",
       "      <td>29</td>\n",
       "      <td>846884</td>\n",
       "      <td>2015-12-31</td>\n",
       "    </tr>\n",
       "    <tr>\n",
       "      <td>2844430</td>\n",
       "      <td>3844431</td>\n",
       "      <td>26</td>\n",
       "      <td>744646</td>\n",
       "      <td>2015-12-31</td>\n",
       "    </tr>\n",
       "    <tr>\n",
       "      <td>2844431</td>\n",
       "      <td>3844432</td>\n",
       "      <td>27</td>\n",
       "      <td>961948</td>\n",
       "      <td>2015-12-31</td>\n",
       "    </tr>\n",
       "  </tbody>\n",
       "</table>\n",
       "<p>2844432 rows × 4 columns</p>\n",
       "</div>"
      ],
      "text/plain": [
       "         transactionID  Spends  CustomerID transactionDate\n",
       "0              1000001      16      843140      2015-01-01\n",
       "1              1000002      31      697698      2015-01-01\n",
       "2              1000003      27      746282      2015-01-01\n",
       "3              1000004      28      645145      2015-01-01\n",
       "4              1000005      22      766577      2015-01-01\n",
       "...                ...     ...         ...             ...\n",
       "2844427        3844428      16      710852      2015-12-31\n",
       "2844428        3844429      39      840213      2015-12-31\n",
       "2844429        3844430      29      846884      2015-12-31\n",
       "2844430        3844431      26      744646      2015-12-31\n",
       "2844431        3844432      27      961948      2015-12-31\n",
       "\n",
       "[2844432 rows x 4 columns]"
      ]
     },
     "execution_count": 53,
     "metadata": {},
     "output_type": "execute_result"
    }
   ],
   "source": [
    "Customer_Tras"
   ]
  },
  {
   "cell_type": "code",
   "execution_count": 37,
   "metadata": {},
   "outputs": [
    {
     "data": {
      "text/plain": [
       "500000"
      ]
     },
     "execution_count": 37,
     "metadata": {},
     "output_type": "execute_result"
    }
   ],
   "source": [
    "Customer_Attr['CustomerId'].nunique()"
   ]
  },
  {
   "cell_type": "code",
   "execution_count": 41,
   "metadata": {},
   "outputs": [
    {
     "data": {
      "text/plain": [
       "500000"
      ]
     },
     "execution_count": 41,
     "metadata": {},
     "output_type": "execute_result"
    }
   ],
   "source": [
    "Customer_Visit['CustomerID'].nunique()"
   ]
  },
  {
   "cell_type": "code",
   "execution_count": 44,
   "metadata": {},
   "outputs": [],
   "source": [
    "Customer_Attr = Customer_Attr.rename(columns={'CustomerId': 'CustomerID'})"
   ]
  },
  {
   "cell_type": "code",
   "execution_count": 45,
   "metadata": {},
   "outputs": [
    {
     "data": {
      "text/html": [
       "<div>\n",
       "<style scoped>\n",
       "    .dataframe tbody tr th:only-of-type {\n",
       "        vertical-align: middle;\n",
       "    }\n",
       "\n",
       "    .dataframe tbody tr th {\n",
       "        vertical-align: top;\n",
       "    }\n",
       "\n",
       "    .dataframe thead th {\n",
       "        text-align: right;\n",
       "    }\n",
       "</style>\n",
       "<table border=\"1\" class=\"dataframe\">\n",
       "  <thead>\n",
       "    <tr style=\"text-align: right;\">\n",
       "      <th></th>\n",
       "      <th>CustomerID</th>\n",
       "      <th>Age</th>\n",
       "      <th>CustomerSince</th>\n",
       "      <th>Gender</th>\n",
       "      <th>Region</th>\n",
       "    </tr>\n",
       "  </thead>\n",
       "  <tbody>\n",
       "    <tr>\n",
       "      <td>0</td>\n",
       "      <td>500001</td>\n",
       "      <td>59</td>\n",
       "      <td>2012</td>\n",
       "      <td>F</td>\n",
       "      <td>East</td>\n",
       "    </tr>\n",
       "    <tr>\n",
       "      <td>1</td>\n",
       "      <td>500002</td>\n",
       "      <td>26</td>\n",
       "      <td>2013</td>\n",
       "      <td>M</td>\n",
       "      <td>East</td>\n",
       "    </tr>\n",
       "    <tr>\n",
       "      <td>2</td>\n",
       "      <td>500003</td>\n",
       "      <td>28</td>\n",
       "      <td>2013</td>\n",
       "      <td>F</td>\n",
       "      <td>West</td>\n",
       "    </tr>\n",
       "    <tr>\n",
       "      <td>3</td>\n",
       "      <td>500004</td>\n",
       "      <td>31</td>\n",
       "      <td>2015</td>\n",
       "      <td>M</td>\n",
       "      <td>West</td>\n",
       "    </tr>\n",
       "    <tr>\n",
       "      <td>4</td>\n",
       "      <td>500005</td>\n",
       "      <td>28</td>\n",
       "      <td>2013</td>\n",
       "      <td>F</td>\n",
       "      <td>South</td>\n",
       "    </tr>\n",
       "    <tr>\n",
       "      <td>...</td>\n",
       "      <td>...</td>\n",
       "      <td>...</td>\n",
       "      <td>...</td>\n",
       "      <td>...</td>\n",
       "      <td>...</td>\n",
       "    </tr>\n",
       "    <tr>\n",
       "      <td>499995</td>\n",
       "      <td>999996</td>\n",
       "      <td>54</td>\n",
       "      <td>2012</td>\n",
       "      <td>M</td>\n",
       "      <td>West</td>\n",
       "    </tr>\n",
       "    <tr>\n",
       "      <td>499996</td>\n",
       "      <td>999997</td>\n",
       "      <td>56</td>\n",
       "      <td>&lt;2011</td>\n",
       "      <td>F</td>\n",
       "      <td>East</td>\n",
       "    </tr>\n",
       "    <tr>\n",
       "      <td>499997</td>\n",
       "      <td>999998</td>\n",
       "      <td>59</td>\n",
       "      <td>2015</td>\n",
       "      <td>F</td>\n",
       "      <td>West</td>\n",
       "    </tr>\n",
       "    <tr>\n",
       "      <td>499998</td>\n",
       "      <td>999999</td>\n",
       "      <td>40</td>\n",
       "      <td>2015</td>\n",
       "      <td>M</td>\n",
       "      <td>South</td>\n",
       "    </tr>\n",
       "    <tr>\n",
       "      <td>499999</td>\n",
       "      <td>1000000</td>\n",
       "      <td>23</td>\n",
       "      <td>2012</td>\n",
       "      <td>M</td>\n",
       "      <td>East</td>\n",
       "    </tr>\n",
       "  </tbody>\n",
       "</table>\n",
       "<p>500000 rows × 5 columns</p>\n",
       "</div>"
      ],
      "text/plain": [
       "        CustomerID  Age CustomerSince Gender Region\n",
       "0           500001   59          2012      F   East\n",
       "1           500002   26          2013      M   East\n",
       "2           500003   28          2013      F   West\n",
       "3           500004   31          2015      M   West\n",
       "4           500005   28          2013      F  South\n",
       "...            ...  ...           ...    ...    ...\n",
       "499995      999996   54          2012      M   West\n",
       "499996      999997   56         <2011      F   East\n",
       "499997      999998   59          2015      F   West\n",
       "499998      999999   40          2015      M  South\n",
       "499999     1000000   23          2012      M   East\n",
       "\n",
       "[500000 rows x 5 columns]"
      ]
     },
     "execution_count": 45,
     "metadata": {},
     "output_type": "execute_result"
    }
   ],
   "source": [
    "Customer_Attr"
   ]
  },
  {
   "cell_type": "code",
   "execution_count": 46,
   "metadata": {},
   "outputs": [],
   "source": [
    "result = pd.merge(Customer_Attr, Customer_Visit, on='CustomerID')"
   ]
  },
  {
   "cell_type": "code",
   "execution_count": 48,
   "metadata": {},
   "outputs": [
    {
     "data": {
      "text/plain": [
       "(500000, 6)"
      ]
     },
     "execution_count": 48,
     "metadata": {},
     "output_type": "execute_result"
    }
   ],
   "source": [
    "result.shape"
   ]
  },
  {
   "cell_type": "code",
   "execution_count": 51,
   "metadata": {},
   "outputs": [
    {
     "data": {
      "text/plain": [
       "500000"
      ]
     },
     "execution_count": 51,
     "metadata": {},
     "output_type": "execute_result"
    }
   ],
   "source": [
    "Customer_Visit['CustomerID'].nunique()"
   ]
  },
  {
   "cell_type": "code",
   "execution_count": 56,
   "metadata": {},
   "outputs": [],
   "source": [
    "Customers = pd.merge(result, Customer_Tras, on ='CustomerID' )"
   ]
  },
  {
   "cell_type": "code",
   "execution_count": 57,
   "metadata": {},
   "outputs": [
    {
     "data": {
      "text/plain": [
       "(2844432, 9)"
      ]
     },
     "execution_count": 57,
     "metadata": {},
     "output_type": "execute_result"
    }
   ],
   "source": [
    "Customers.shape"
   ]
  },
  {
   "cell_type": "code",
   "execution_count": null,
   "metadata": {},
   "outputs": [],
   "source": []
  }
 ],
 "metadata": {
  "kernelspec": {
   "display_name": "Python 3",
   "language": "python",
   "name": "python3"
  },
  "language_info": {
   "codemirror_mode": {
    "name": "ipython",
    "version": 3
   },
   "file_extension": ".py",
   "mimetype": "text/x-python",
   "name": "python",
   "nbconvert_exporter": "python",
   "pygments_lexer": "ipython3",
   "version": "3.7.4"
  }
 },
 "nbformat": 4,
 "nbformat_minor": 2
}
