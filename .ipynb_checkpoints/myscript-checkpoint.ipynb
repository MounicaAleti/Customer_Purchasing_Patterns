{
 "cells": [
  {
   "cell_type": "code",
   "execution_count": 112,
   "metadata": {},
   "outputs": [],
   "source": [
    "import pandas as pd\n",
    "import numpy as np\n",
    "import matplotlib.pyplot as plt"
   ]
  },
  {
   "cell_type": "code",
   "execution_count": 113,
   "metadata": {},
   "outputs": [],
   "source": [
    "customer_attr = pd.read_csv(\"customer_data_2014-15_attr.csv\")\n",
    "customer_visits = pd.read_csv('customer_data_2015_visited.csv')\n",
    "customer_transactions = pd.read_csv('customer_data3_2015_transactions.csv')"
   ]
  },
  {
   "cell_type": "markdown",
   "metadata": {},
   "source": [
    "#There is a difference in unique customer count for transactions_data(count = 437323) and visists data (count = 500000)"
   ]
  },
  {
   "cell_type": "code",
   "execution_count": 114,
   "metadata": {},
   "outputs": [
    {
     "data": {
      "text/html": [
       "<div>\n",
       "<style scoped>\n",
       "    .dataframe tbody tr th:only-of-type {\n",
       "        vertical-align: middle;\n",
       "    }\n",
       "\n",
       "    .dataframe tbody tr th {\n",
       "        vertical-align: top;\n",
       "    }\n",
       "\n",
       "    .dataframe thead th {\n",
       "        text-align: right;\n",
       "    }\n",
       "</style>\n",
       "<table border=\"1\" class=\"dataframe\">\n",
       "  <thead>\n",
       "    <tr style=\"text-align: right;\">\n",
       "      <th></th>\n",
       "      <th>CustomerID</th>\n",
       "      <th>Age</th>\n",
       "      <th>CustomerSince</th>\n",
       "      <th>Gender</th>\n",
       "      <th>Region</th>\n",
       "      <th>Visits</th>\n",
       "    </tr>\n",
       "  </thead>\n",
       "  <tbody>\n",
       "    <tr>\n",
       "      <td>0</td>\n",
       "      <td>500001</td>\n",
       "      <td>59</td>\n",
       "      <td>2012</td>\n",
       "      <td>F</td>\n",
       "      <td>East</td>\n",
       "      <td>36</td>\n",
       "    </tr>\n",
       "    <tr>\n",
       "      <td>1</td>\n",
       "      <td>500002</td>\n",
       "      <td>26</td>\n",
       "      <td>2013</td>\n",
       "      <td>M</td>\n",
       "      <td>East</td>\n",
       "      <td>32</td>\n",
       "    </tr>\n",
       "    <tr>\n",
       "      <td>2</td>\n",
       "      <td>500003</td>\n",
       "      <td>28</td>\n",
       "      <td>2013</td>\n",
       "      <td>F</td>\n",
       "      <td>West</td>\n",
       "      <td>43</td>\n",
       "    </tr>\n",
       "    <tr>\n",
       "      <td>3</td>\n",
       "      <td>500004</td>\n",
       "      <td>31</td>\n",
       "      <td>2015</td>\n",
       "      <td>M</td>\n",
       "      <td>West</td>\n",
       "      <td>33</td>\n",
       "    </tr>\n",
       "    <tr>\n",
       "      <td>4</td>\n",
       "      <td>500005</td>\n",
       "      <td>28</td>\n",
       "      <td>2013</td>\n",
       "      <td>F</td>\n",
       "      <td>South</td>\n",
       "      <td>42</td>\n",
       "    </tr>\n",
       "  </tbody>\n",
       "</table>\n",
       "</div>"
      ],
      "text/plain": [
       "   CustomerID  Age CustomerSince Gender Region  Visits\n",
       "0      500001   59          2012      F   East      36\n",
       "1      500002   26          2013      M   East      32\n",
       "2      500003   28          2013      F   West      43\n",
       "3      500004   31          2015      M   West      33\n",
       "4      500005   28          2013      F  South      42"
      ]
     },
     "execution_count": 114,
     "metadata": {},
     "output_type": "execute_result"
    }
   ],
   "source": [
    "#Merging customer attributes and visits\n",
    "customer_attr = customer_attr.rename(columns = {'CustomerId':'CustomerID'})\n",
    "init_result = pd.merge(customer_attr, customer_visits, on='CustomerID')\n",
    "init_result.head()"
   ]
  },
  {
   "cell_type": "code",
   "execution_count": 115,
   "metadata": {},
   "outputs": [
    {
     "data": {
      "text/html": [
       "<div>\n",
       "<style scoped>\n",
       "    .dataframe tbody tr th:only-of-type {\n",
       "        vertical-align: middle;\n",
       "    }\n",
       "\n",
       "    .dataframe tbody tr th {\n",
       "        vertical-align: top;\n",
       "    }\n",
       "\n",
       "    .dataframe thead th {\n",
       "        text-align: right;\n",
       "    }\n",
       "</style>\n",
       "<table border=\"1\" class=\"dataframe\">\n",
       "  <thead>\n",
       "    <tr style=\"text-align: right;\">\n",
       "      <th></th>\n",
       "      <th>transactionID</th>\n",
       "      <th>Spends</th>\n",
       "      <th>CustomerID</th>\n",
       "      <th>transactionDate</th>\n",
       "    </tr>\n",
       "  </thead>\n",
       "  <tbody>\n",
       "    <tr>\n",
       "      <td>0</td>\n",
       "      <td>1000001</td>\n",
       "      <td>16</td>\n",
       "      <td>843140</td>\n",
       "      <td>2015-01-01</td>\n",
       "    </tr>\n",
       "    <tr>\n",
       "      <td>1</td>\n",
       "      <td>1000002</td>\n",
       "      <td>31</td>\n",
       "      <td>697698</td>\n",
       "      <td>2015-01-01</td>\n",
       "    </tr>\n",
       "    <tr>\n",
       "      <td>2</td>\n",
       "      <td>1000003</td>\n",
       "      <td>27</td>\n",
       "      <td>746282</td>\n",
       "      <td>2015-01-01</td>\n",
       "    </tr>\n",
       "    <tr>\n",
       "      <td>3</td>\n",
       "      <td>1000004</td>\n",
       "      <td>28</td>\n",
       "      <td>645145</td>\n",
       "      <td>2015-01-01</td>\n",
       "    </tr>\n",
       "    <tr>\n",
       "      <td>4</td>\n",
       "      <td>1000005</td>\n",
       "      <td>22</td>\n",
       "      <td>766577</td>\n",
       "      <td>2015-01-01</td>\n",
       "    </tr>\n",
       "  </tbody>\n",
       "</table>\n",
       "</div>"
      ],
      "text/plain": [
       "   transactionID  Spends  CustomerID transactionDate\n",
       "0        1000001      16      843140      2015-01-01\n",
       "1        1000002      31      697698      2015-01-01\n",
       "2        1000003      27      746282      2015-01-01\n",
       "3        1000004      28      645145      2015-01-01\n",
       "4        1000005      22      766577      2015-01-01"
      ]
     },
     "execution_count": 115,
     "metadata": {},
     "output_type": "execute_result"
    }
   ],
   "source": [
    "#Tuning transactions data\n",
    "\n",
    "#Converting transactionDate \n",
    "customer_transactions['transactionDate'] = pd.to_datetime(customer_transactions['transactionDate'])\n",
    "customer_transactions.head()"
   ]
  },
  {
   "cell_type": "code",
   "execution_count": 116,
   "metadata": {},
   "outputs": [],
   "source": [
    "customer_transactions['transactionMonth'] = customer_transactions['transactionDate'].dt.month"
   ]
  },
  {
   "cell_type": "code",
   "execution_count": 117,
   "metadata": {},
   "outputs": [],
   "source": [
    "customer_transactions.head()\n",
    "group_month = customer_transactions.groupby(['transactionMonth']).sum()\n",
    "group_month = group_month.drop(['CustomerID', 'transactionID'], axis = 'columns')\n",
    "\n",
    "\n",
    "#.hist(group_month['transactionMonth'].values)"
   ]
  },
  {
   "cell_type": "code",
   "execution_count": 118,
   "metadata": {},
   "outputs": [
    {
     "data": {
      "text/html": [
       "<div>\n",
       "<style scoped>\n",
       "    .dataframe tbody tr th:only-of-type {\n",
       "        vertical-align: middle;\n",
       "    }\n",
       "\n",
       "    .dataframe tbody tr th {\n",
       "        vertical-align: top;\n",
       "    }\n",
       "\n",
       "    .dataframe thead th {\n",
       "        text-align: right;\n",
       "    }\n",
       "</style>\n",
       "<table border=\"1\" class=\"dataframe\">\n",
       "  <thead>\n",
       "    <tr style=\"text-align: right;\">\n",
       "      <th></th>\n",
       "      <th>transactionID</th>\n",
       "      <th>Spends</th>\n",
       "      <th>CustomerID</th>\n",
       "      <th>transactionDate</th>\n",
       "      <th>transactionMonth</th>\n",
       "    </tr>\n",
       "  </thead>\n",
       "  <tbody>\n",
       "    <tr>\n",
       "      <td>0</td>\n",
       "      <td>1000001</td>\n",
       "      <td>16</td>\n",
       "      <td>843140</td>\n",
       "      <td>2015-01-01</td>\n",
       "      <td>1</td>\n",
       "    </tr>\n",
       "    <tr>\n",
       "      <td>1</td>\n",
       "      <td>1000002</td>\n",
       "      <td>31</td>\n",
       "      <td>697698</td>\n",
       "      <td>2015-01-01</td>\n",
       "      <td>1</td>\n",
       "    </tr>\n",
       "    <tr>\n",
       "      <td>2</td>\n",
       "      <td>1000003</td>\n",
       "      <td>27</td>\n",
       "      <td>746282</td>\n",
       "      <td>2015-01-01</td>\n",
       "      <td>1</td>\n",
       "    </tr>\n",
       "    <tr>\n",
       "      <td>3</td>\n",
       "      <td>1000004</td>\n",
       "      <td>28</td>\n",
       "      <td>645145</td>\n",
       "      <td>2015-01-01</td>\n",
       "      <td>1</td>\n",
       "    </tr>\n",
       "    <tr>\n",
       "      <td>4</td>\n",
       "      <td>1000005</td>\n",
       "      <td>22</td>\n",
       "      <td>766577</td>\n",
       "      <td>2015-01-01</td>\n",
       "      <td>1</td>\n",
       "    </tr>\n",
       "  </tbody>\n",
       "</table>\n",
       "</div>"
      ],
      "text/plain": [
       "   transactionID  Spends  CustomerID transactionDate  transactionMonth\n",
       "0        1000001      16      843140      2015-01-01                 1\n",
       "1        1000002      31      697698      2015-01-01                 1\n",
       "2        1000003      27      746282      2015-01-01                 1\n",
       "3        1000004      28      645145      2015-01-01                 1\n",
       "4        1000005      22      766577      2015-01-01                 1"
      ]
     },
     "execution_count": 118,
     "metadata": {},
     "output_type": "execute_result"
    }
   ],
   "source": [
    "customer_transactions.head()"
   ]
  },
  {
   "cell_type": "code",
   "execution_count": 119,
   "metadata": {
    "scrolled": true
   },
   "outputs": [
    {
     "data": {
      "text/plain": [
       "<matplotlib.axes._subplots.AxesSubplot at 0x12122e550>"
      ]
     },
     "execution_count": 119,
     "metadata": {},
     "output_type": "execute_result"
    },
    {
     "data": {
      "image/png": "[encoded data removed]",
      "text/plain": [
       "<Figure size 432x288 with 1 Axes>"
      ]
     },
     "metadata": {
      "needs_background": "light"
     },
     "output_type": "display_data"
    }
   ],
   "source": [
    "group_month.plot(kind='bar')"
   ]
  },
  {
   "cell_type": "code",
   "execution_count": 120,
   "metadata": {},
   "outputs": [
    {
     "data": {
      "text/html": [
       "<div>\n",
       "<style scoped>\n",
       "    .dataframe tbody tr th:only-of-type {\n",
       "        vertical-align: middle;\n",
       "    }\n",
       "\n",
       "    .dataframe tbody tr th {\n",
       "        vertical-align: top;\n",
       "    }\n",
       "\n",
       "    .dataframe thead th {\n",
       "        text-align: right;\n",
       "    }\n",
       "</style>\n",
       "<table border=\"1\" class=\"dataframe\">\n",
       "  <thead>\n",
       "    <tr style=\"text-align: right;\">\n",
       "      <th></th>\n",
       "      <th>transactionID</th>\n",
       "      <th>Spends</th>\n",
       "      <th>CustomerID</th>\n",
       "      <th>transactionDate</th>\n",
       "      <th>transactionMonth</th>\n",
       "    </tr>\n",
       "  </thead>\n",
       "  <tbody>\n",
       "    <tr>\n",
       "      <td>0</td>\n",
       "      <td>1000001</td>\n",
       "      <td>16</td>\n",
       "      <td>843140</td>\n",
       "      <td>2015-01-01</td>\n",
       "      <td>1</td>\n",
       "    </tr>\n",
       "    <tr>\n",
       "      <td>1</td>\n",
       "      <td>1000002</td>\n",
       "      <td>31</td>\n",
       "      <td>697698</td>\n",
       "      <td>2015-01-01</td>\n",
       "      <td>1</td>\n",
       "    </tr>\n",
       "    <tr>\n",
       "      <td>2</td>\n",
       "      <td>1000003</td>\n",
       "      <td>27</td>\n",
       "      <td>746282</td>\n",
       "      <td>2015-01-01</td>\n",
       "      <td>1</td>\n",
       "    </tr>\n",
       "    <tr>\n",
       "      <td>3</td>\n",
       "      <td>1000004</td>\n",
       "      <td>28</td>\n",
       "      <td>645145</td>\n",
       "      <td>2015-01-01</td>\n",
       "      <td>1</td>\n",
       "    </tr>\n",
       "    <tr>\n",
       "      <td>4</td>\n",
       "      <td>1000005</td>\n",
       "      <td>22</td>\n",
       "      <td>766577</td>\n",
       "      <td>2015-01-01</td>\n",
       "      <td>1</td>\n",
       "    </tr>\n",
       "  </tbody>\n",
       "</table>\n",
       "</div>"
      ],
      "text/plain": [
       "   transactionID  Spends  CustomerID transactionDate  transactionMonth\n",
       "0        1000001      16      843140      2015-01-01                 1\n",
       "1        1000002      31      697698      2015-01-01                 1\n",
       "2        1000003      27      746282      2015-01-01                 1\n",
       "3        1000004      28      645145      2015-01-01                 1\n",
       "4        1000005      22      766577      2015-01-01                 1"
      ]
     },
     "execution_count": 120,
     "metadata": {},
     "output_type": "execute_result"
    }
   ],
   "source": [
    "#From this histogram we assume that monts (6, 10, 12) are offer months\n",
    "customer_transactions.head()"
   ]
  },
  {
   "cell_type": "code",
   "execution_count": 121,
   "metadata": {},
   "outputs": [
    {
     "name": "stdout",
     "output_type": "stream",
     "text": [
      "transactionID                int64\n",
      "Spends                       int64\n",
      "CustomerID                   int64\n",
      "transactionDate     datetime64[ns]\n",
      "transactionMonth             int64\n",
      "dtype: object\n"
     ]
    },
    {
     "data": {
      "text/html": [
       "<div>\n",
       "<style scoped>\n",
       "    .dataframe tbody tr th:only-of-type {\n",
       "        vertical-align: middle;\n",
       "    }\n",
       "\n",
       "    .dataframe tbody tr th {\n",
       "        vertical-align: top;\n",
       "    }\n",
       "\n",
       "    .dataframe thead th {\n",
       "        text-align: right;\n",
       "    }\n",
       "</style>\n",
       "<table border=\"1\" class=\"dataframe\">\n",
       "  <thead>\n",
       "    <tr style=\"text-align: right;\">\n",
       "      <th></th>\n",
       "      <th>transactionID</th>\n",
       "      <th>Spends</th>\n",
       "      <th>CustomerID</th>\n",
       "      <th>transactionDate</th>\n",
       "      <th>transactionMonth</th>\n",
       "    </tr>\n",
       "  </thead>\n",
       "  <tbody>\n",
       "    <tr>\n",
       "      <td>0</td>\n",
       "      <td>1000001</td>\n",
       "      <td>16</td>\n",
       "      <td>843140</td>\n",
       "      <td>2015-01-01</td>\n",
       "      <td>1</td>\n",
       "    </tr>\n",
       "    <tr>\n",
       "      <td>1</td>\n",
       "      <td>1000002</td>\n",
       "      <td>31</td>\n",
       "      <td>697698</td>\n",
       "      <td>2015-01-01</td>\n",
       "      <td>1</td>\n",
       "    </tr>\n",
       "    <tr>\n",
       "      <td>2</td>\n",
       "      <td>1000003</td>\n",
       "      <td>27</td>\n",
       "      <td>746282</td>\n",
       "      <td>2015-01-01</td>\n",
       "      <td>1</td>\n",
       "    </tr>\n",
       "    <tr>\n",
       "      <td>3</td>\n",
       "      <td>1000004</td>\n",
       "      <td>28</td>\n",
       "      <td>645145</td>\n",
       "      <td>2015-01-01</td>\n",
       "      <td>1</td>\n",
       "    </tr>\n",
       "    <tr>\n",
       "      <td>4</td>\n",
       "      <td>1000005</td>\n",
       "      <td>22</td>\n",
       "      <td>766577</td>\n",
       "      <td>2015-01-01</td>\n",
       "      <td>1</td>\n",
       "    </tr>\n",
       "  </tbody>\n",
       "</table>\n",
       "</div>"
      ],
      "text/plain": [
       "   transactionID  Spends  CustomerID transactionDate  transactionMonth\n",
       "0        1000001      16      843140      2015-01-01                 1\n",
       "1        1000002      31      697698      2015-01-01                 1\n",
       "2        1000003      27      746282      2015-01-01                 1\n",
       "3        1000004      28      645145      2015-01-01                 1\n",
       "4        1000005      22      766577      2015-01-01                 1"
      ]
     },
     "execution_count": 121,
     "metadata": {},
     "output_type": "execute_result"
    }
   ],
   "source": [
    "print(customer_transactions.dtypes)\n",
    "temp_ct = pd.DataFrame(customer_transactions).copy()\n",
    "temp_ct.head()"
   ]
  },
  {
   "cell_type": "code",
   "execution_count": 122,
   "metadata": {},
   "outputs": [],
   "source": [
    "# def offer_status(df, column):    \n",
    "#     for index, row in df.iterrows():\n",
    "#         df['offer_month_status'] = ((row[column] == 6) | (row[column] == 10) |(row[column] == 12))\n",
    "        \n",
    "# temp_ct.head()\n",
    "\n",
    "offer_list = [6, 10, 12]\n",
    "\n",
    "def offer_status(df, column):\n",
    "    for i in range(1,13):\n",
    "        if i in offer_list:\n",
    "            temp_ct['transactionMonth'][temp_ct['transactionMonth'] == i] = 'Offer_Month'\n",
    "        else:\n",
    "            temp_ct['transactionMonth'][temp_ct['transactionMonth'] == i] = 'Non_Offer_Month'"
   ]
  },
  {
   "cell_type": "code",
   "execution_count": 123,
   "metadata": {},
   "outputs": [
    {
     "name": "stderr",
     "output_type": "stream",
     "text": [
      "/Users/mounica/opt/anaconda3/lib/python3.7/site-packages/ipykernel_launcher.py:14: SettingWithCopyWarning: \n",
      "A value is trying to be set on a copy of a slice from a DataFrame\n",
      "\n",
      "See the caveats in the documentation: http://pandas.pydata.org/pandas-docs/stable/user_guide/indexing.html#returning-a-view-versus-a-copy\n",
      "  \n"
     ]
    }
   ],
   "source": [
    "offer_status(temp_ct, 'transactionMonth')"
   ]
  },
  {
   "cell_type": "code",
   "execution_count": 150,
   "metadata": {},
   "outputs": [],
   "source": [
    "offer_df= temp_ct.copy()"
   ]
  },
  {
   "cell_type": "code",
   "execution_count": 152,
   "metadata": {},
   "outputs": [
    {
     "data": {
      "text/plain": [
       "437323"
      ]
     },
     "execution_count": 152,
     "metadata": {},
     "output_type": "execute_result"
    }
   ],
   "source": [
    "offer_df['CustomerID'].nunique()"
   ]
  },
  {
   "cell_type": "code",
   "execution_count": 125,
   "metadata": {},
   "outputs": [
    {
     "data": {
      "text/html": [
       "<div>\n",
       "<style scoped>\n",
       "    .dataframe tbody tr th:only-of-type {\n",
       "        vertical-align: middle;\n",
       "    }\n",
       "\n",
       "    .dataframe tbody tr th {\n",
       "        vertical-align: top;\n",
       "    }\n",
       "\n",
       "    .dataframe thead th {\n",
       "        text-align: right;\n",
       "    }\n",
       "</style>\n",
       "<table border=\"1\" class=\"dataframe\">\n",
       "  <thead>\n",
       "    <tr style=\"text-align: right;\">\n",
       "      <th></th>\n",
       "      <th>transactionID</th>\n",
       "      <th>Spends</th>\n",
       "      <th>CustomerID</th>\n",
       "      <th>transactionDate</th>\n",
       "      <th>transactionMonth</th>\n",
       "    </tr>\n",
       "  </thead>\n",
       "  <tbody>\n",
       "    <tr>\n",
       "      <td>2080382</td>\n",
       "      <td>3080383</td>\n",
       "      <td>88</td>\n",
       "      <td>502005</td>\n",
       "      <td>2015-10-10</td>\n",
       "      <td>Offer_Month</td>\n",
       "    </tr>\n",
       "  </tbody>\n",
       "</table>\n",
       "</div>"
      ],
      "text/plain": [
       "         transactionID  Spends  CustomerID transactionDate transactionMonth\n",
       "2080382        3080383      88      502005      2015-10-10      Offer_Month"
      ]
     },
     "execution_count": 125,
     "metadata": {},
     "output_type": "execute_result"
    }
   ],
   "source": [
    "# print(temp_ct['CustomerID'].value_counts())\n",
    "temp_ct[temp_ct['CustomerID']==502005]"
   ]
  },
  {
   "cell_type": "code",
   "execution_count": 128,
   "metadata": {},
   "outputs": [
    {
     "data": {
      "text/plain": [
       "(382329, 6)"
      ]
     },
     "execution_count": 128,
     "metadata": {},
     "output_type": "execute_result"
    }
   ],
   "source": [
    "# off_cond = init_result['CustomerID'].isin(offer_df['CustomerID'])\n",
    "# # y = offer_df[offer_df['transactionID'] == offer_df_avg['lastTransID'] ]\n",
    "\n",
    "# off_x = init_result[off_cond].copy()\n",
    "\n",
    "# #Customers attribute table - who purchased in offer month\n",
    "# off_x.shape\n",
    "#off_x.head()\n",
    "\n",
    "#getting the customer Ids of customers on offer months"
   ]
  },
  {
   "cell_type": "code",
   "execution_count": 129,
   "metadata": {},
   "outputs": [],
   "source": [
    "#Fetching non-offer month values\n",
    "nonOff_df = temp_ct.groupby(['transactionMonth']).get_group('Non_Offer_Month')\n",
    "nonOff_df = pd.DataFrame(nonOff_df).copy()"
   ]
  },
  {
   "cell_type": "code",
   "execution_count": 130,
   "metadata": {},
   "outputs": [
    {
     "name": "stdout",
     "output_type": "stream",
     "text": [
      "437323\n",
      "374840\n",
      "(1359082, 5)\n"
     ]
    },
    {
     "data": {
      "text/html": [
       "<div>\n",
       "<style scoped>\n",
       "    .dataframe tbody tr th:only-of-type {\n",
       "        vertical-align: middle;\n",
       "    }\n",
       "\n",
       "    .dataframe tbody tr th {\n",
       "        vertical-align: top;\n",
       "    }\n",
       "\n",
       "    .dataframe thead th {\n",
       "        text-align: right;\n",
       "    }\n",
       "</style>\n",
       "<table border=\"1\" class=\"dataframe\">\n",
       "  <thead>\n",
       "    <tr style=\"text-align: right;\">\n",
       "      <th></th>\n",
       "      <th>transactionID</th>\n",
       "      <th>Spends</th>\n",
       "      <th>CustomerID</th>\n",
       "      <th>transactionDate</th>\n",
       "      <th>transactionMonth</th>\n",
       "    </tr>\n",
       "  </thead>\n",
       "  <tbody>\n",
       "    <tr>\n",
       "      <td>0</td>\n",
       "      <td>1000001</td>\n",
       "      <td>16</td>\n",
       "      <td>843140</td>\n",
       "      <td>2015-01-01</td>\n",
       "      <td>Non_Offer_Month</td>\n",
       "    </tr>\n",
       "    <tr>\n",
       "      <td>1</td>\n",
       "      <td>1000002</td>\n",
       "      <td>31</td>\n",
       "      <td>697698</td>\n",
       "      <td>2015-01-01</td>\n",
       "      <td>Non_Offer_Month</td>\n",
       "    </tr>\n",
       "    <tr>\n",
       "      <td>2</td>\n",
       "      <td>1000003</td>\n",
       "      <td>27</td>\n",
       "      <td>746282</td>\n",
       "      <td>2015-01-01</td>\n",
       "      <td>Non_Offer_Month</td>\n",
       "    </tr>\n",
       "    <tr>\n",
       "      <td>3</td>\n",
       "      <td>1000004</td>\n",
       "      <td>28</td>\n",
       "      <td>645145</td>\n",
       "      <td>2015-01-01</td>\n",
       "      <td>Non_Offer_Month</td>\n",
       "    </tr>\n",
       "    <tr>\n",
       "      <td>4</td>\n",
       "      <td>1000005</td>\n",
       "      <td>22</td>\n",
       "      <td>766577</td>\n",
       "      <td>2015-01-01</td>\n",
       "      <td>Non_Offer_Month</td>\n",
       "    </tr>\n",
       "  </tbody>\n",
       "</table>\n",
       "</div>"
      ],
      "text/plain": [
       "   transactionID  Spends  CustomerID transactionDate transactionMonth\n",
       "0        1000001      16      843140      2015-01-01  Non_Offer_Month\n",
       "1        1000002      31      697698      2015-01-01  Non_Offer_Month\n",
       "2        1000003      27      746282      2015-01-01  Non_Offer_Month\n",
       "3        1000004      28      645145      2015-01-01  Non_Offer_Month\n",
       "4        1000005      22      766577      2015-01-01  Non_Offer_Month"
      ]
     },
     "execution_count": 130,
     "metadata": {},
     "output_type": "execute_result"
    }
   ],
   "source": [
    "print(customer_transactions['CustomerID'].nunique())\n",
    "print(nonOff_df['CustomerID'].nunique())\n",
    "print(nonOff_df.shape)\n",
    "nonOff_df.head()"
   ]
  },
  {
   "cell_type": "code",
   "execution_count": 131,
   "metadata": {},
   "outputs": [
    {
     "name": "stdout",
     "output_type": "stream",
     "text": [
      "382329\n",
      "(382329, 2)\n",
      "(1485350, 5)\n"
     ]
    },
    {
     "data": {
      "text/html": [
       "<div>\n",
       "<style scoped>\n",
       "    .dataframe tbody tr th:only-of-type {\n",
       "        vertical-align: middle;\n",
       "    }\n",
       "\n",
       "    .dataframe tbody tr th {\n",
       "        vertical-align: top;\n",
       "    }\n",
       "\n",
       "    .dataframe thead th {\n",
       "        text-align: right;\n",
       "    }\n",
       "</style>\n",
       "<table border=\"1\" class=\"dataframe\">\n",
       "  <thead>\n",
       "    <tr style=\"text-align: right;\">\n",
       "      <th></th>\n",
       "      <th>lastTransID</th>\n",
       "      <th>CustomerID</th>\n",
       "    </tr>\n",
       "    <tr>\n",
       "      <th>CustomerID</th>\n",
       "      <th></th>\n",
       "      <th></th>\n",
       "    </tr>\n",
       "  </thead>\n",
       "  <tbody>\n",
       "    <tr>\n",
       "      <td>500001</td>\n",
       "      <td>3754483</td>\n",
       "      <td>500001</td>\n",
       "    </tr>\n",
       "    <tr>\n",
       "      <td>500002</td>\n",
       "      <td>3593302</td>\n",
       "      <td>500002</td>\n",
       "    </tr>\n",
       "    <tr>\n",
       "      <td>500004</td>\n",
       "      <td>3791230</td>\n",
       "      <td>500004</td>\n",
       "    </tr>\n",
       "    <tr>\n",
       "      <td>500006</td>\n",
       "      <td>3691650</td>\n",
       "      <td>500006</td>\n",
       "    </tr>\n",
       "    <tr>\n",
       "      <td>500009</td>\n",
       "      <td>3830338</td>\n",
       "      <td>500009</td>\n",
       "    </tr>\n",
       "  </tbody>\n",
       "</table>\n",
       "</div>"
      ],
      "text/plain": [
       "            lastTransID  CustomerID\n",
       "CustomerID                         \n",
       "500001          3754483      500001\n",
       "500002          3593302      500002\n",
       "500004          3791230      500004\n",
       "500006          3691650      500006\n",
       "500009          3830338      500009"
      ]
     },
     "execution_count": 131,
     "metadata": {},
     "output_type": "execute_result"
    }
   ],
   "source": [
    "#Making a copy of all transactions happend in offer months\n",
    "offer_df_copy = offer_df.copy()\n",
    "\n",
    "#Fetching last transactions of all customers\n",
    "offer_df_latest = offer_df.groupby(['CustomerID'])['transactionID'].max()\n",
    "# offer_df_avg = offer_df.loc[offer_df.reset_index().groupby(['CustomerID'])['transactionID'].idxmax()]\n",
    "offer_df_latest\n",
    "offer_df_latest = pd.DataFrame(offer_df_latest).copy()\n",
    "offer_df_latest = offer_df_latest.sort_index()\n",
    "offer_df_latest = offer_df_latest.rename(columns={'transactionID':'lastTransID'})\n",
    "offer_df_latest['CustomerID'] = offer_df_latest.index\n",
    "print(offer_df_latest['CustomerID'].nunique())\n",
    "print(offer_df_latest.shape)\n",
    "print(offer_df_copy.shape)\n",
    "offer_df_latest.head()\n"
   ]
  },
  {
   "cell_type": "code",
   "execution_count": 132,
   "metadata": {},
   "outputs": [
    {
     "data": {
      "text/plain": [
       "300253"
      ]
     },
     "execution_count": 132,
     "metadata": {},
     "output_type": "execute_result"
    }
   ],
   "source": [
    "#Checking last transaction in whole transactions of offer-month\n",
    "cond = offer_df['transactionID'].isin(offer_df_latest['lastTransID'])\n",
    "\n",
    "#Saving entire row of customer last transaction into 'y'\n",
    "y = offer_df[cond]\n",
    "\n",
    "#Droping last transaction rows from entire offer-month transactions\n",
    "offer_df.drop(offer_df[cond].index, inplace = True)\n",
    "\n",
    "offer_df['CustomerID'].nunique()"
   ]
  },
  {
   "cell_type": "code",
   "execution_count": 133,
   "metadata": {},
   "outputs": [
    {
     "data": {
      "text/html": [
       "<div>\n",
       "<style scoped>\n",
       "    .dataframe tbody tr th:only-of-type {\n",
       "        vertical-align: middle;\n",
       "    }\n",
       "\n",
       "    .dataframe tbody tr th {\n",
       "        vertical-align: top;\n",
       "    }\n",
       "\n",
       "    .dataframe thead th {\n",
       "        text-align: right;\n",
       "    }\n",
       "</style>\n",
       "<table border=\"1\" class=\"dataframe\">\n",
       "  <thead>\n",
       "    <tr style=\"text-align: right;\">\n",
       "      <th></th>\n",
       "      <th>transactionID</th>\n",
       "      <th>Spends</th>\n",
       "      <th>CustomerID</th>\n",
       "      <th>transactionDate</th>\n",
       "      <th>transactionMonth</th>\n",
       "    </tr>\n",
       "  </thead>\n",
       "  <tbody>\n",
       "    <tr>\n",
       "      <td>752112</td>\n",
       "      <td>1752113</td>\n",
       "      <td>88</td>\n",
       "      <td>983734</td>\n",
       "      <td>2015-06-01</td>\n",
       "      <td>Offer_Month</td>\n",
       "    </tr>\n",
       "    <tr>\n",
       "      <td>752123</td>\n",
       "      <td>1752124</td>\n",
       "      <td>31</td>\n",
       "      <td>717744</td>\n",
       "      <td>2015-06-01</td>\n",
       "      <td>Offer_Month</td>\n",
       "    </tr>\n",
       "    <tr>\n",
       "      <td>752142</td>\n",
       "      <td>1752143</td>\n",
       "      <td>103</td>\n",
       "      <td>942794</td>\n",
       "      <td>2015-06-01</td>\n",
       "      <td>Offer_Month</td>\n",
       "    </tr>\n",
       "    <tr>\n",
       "      <td>752158</td>\n",
       "      <td>1752159</td>\n",
       "      <td>75</td>\n",
       "      <td>528543</td>\n",
       "      <td>2015-06-01</td>\n",
       "      <td>Offer_Month</td>\n",
       "    </tr>\n",
       "    <tr>\n",
       "      <td>752159</td>\n",
       "      <td>1752160</td>\n",
       "      <td>108</td>\n",
       "      <td>757247</td>\n",
       "      <td>2015-06-01</td>\n",
       "      <td>Offer_Month</td>\n",
       "    </tr>\n",
       "  </tbody>\n",
       "</table>\n",
       "</div>"
      ],
      "text/plain": [
       "        transactionID  Spends  CustomerID transactionDate transactionMonth\n",
       "752112        1752113      88      983734      2015-06-01      Offer_Month\n",
       "752123        1752124      31      717744      2015-06-01      Offer_Month\n",
       "752142        1752143     103      942794      2015-06-01      Offer_Month\n",
       "752158        1752159      75      528543      2015-06-01      Offer_Month\n",
       "752159        1752160     108      757247      2015-06-01      Offer_Month"
      ]
     },
     "execution_count": 133,
     "metadata": {},
     "output_type": "execute_result"
    }
   ],
   "source": [
    "y.head()"
   ]
  },
  {
   "cell_type": "code",
   "execution_count": 134,
   "metadata": {},
   "outputs": [
    {
     "data": {
      "text/html": [
       "<div>\n",
       "<style scoped>\n",
       "    .dataframe tbody tr th:only-of-type {\n",
       "        vertical-align: middle;\n",
       "    }\n",
       "\n",
       "    .dataframe tbody tr th {\n",
       "        vertical-align: top;\n",
       "    }\n",
       "\n",
       "    .dataframe thead th {\n",
       "        text-align: right;\n",
       "    }\n",
       "</style>\n",
       "<table border=\"1\" class=\"dataframe\">\n",
       "  <thead>\n",
       "    <tr style=\"text-align: right;\">\n",
       "      <th></th>\n",
       "      <th>Max_Spendings</th>\n",
       "      <th>CustomerID</th>\n",
       "    </tr>\n",
       "    <tr>\n",
       "      <th>CustomerID</th>\n",
       "      <th></th>\n",
       "      <th></th>\n",
       "    </tr>\n",
       "  </thead>\n",
       "  <tbody>\n",
       "    <tr>\n",
       "      <td>500001</td>\n",
       "      <td>40</td>\n",
       "      <td>500001</td>\n",
       "    </tr>\n",
       "    <tr>\n",
       "      <td>500002</td>\n",
       "      <td>31</td>\n",
       "      <td>500002</td>\n",
       "    </tr>\n",
       "    <tr>\n",
       "      <td>500004</td>\n",
       "      <td>33</td>\n",
       "      <td>500004</td>\n",
       "    </tr>\n",
       "    <tr>\n",
       "      <td>500009</td>\n",
       "      <td>31</td>\n",
       "      <td>500009</td>\n",
       "    </tr>\n",
       "    <tr>\n",
       "      <td>500010</td>\n",
       "      <td>34</td>\n",
       "      <td>500010</td>\n",
       "    </tr>\n",
       "  </tbody>\n",
       "</table>\n",
       "</div>"
      ],
      "text/plain": [
       "            Max_Spendings  CustomerID\n",
       "CustomerID                           \n",
       "500001                 40      500001\n",
       "500002                 31      500002\n",
       "500004                 33      500004\n",
       "500009                 31      500009\n",
       "500010                 34      500010"
      ]
     },
     "execution_count": 134,
     "metadata": {},
     "output_type": "execute_result"
    }
   ],
   "source": [
    "#maximum spends of each customer after deleting last-transaction\n",
    "temp_off_df_max = offer_df.groupby(['CustomerID'])['Spends'].max()\n",
    "temp_off_df_max = pd.DataFrame(temp_off_df_max).copy()\n",
    "temp_off_df_max = temp_off_df_max.sort_index()\n",
    "temp_off_df_max = temp_off_df_max.rename(columns={'Spends':'Max_Spendings'})\n",
    "temp_off_df_max['CustomerID'] = temp_off_df_max.index\n",
    "temp_off_df_max.head()"
   ]
  },
  {
   "cell_type": "code",
   "execution_count": 135,
   "metadata": {},
   "outputs": [
    {
     "data": {
      "text/html": [
       "<div>\n",
       "<style scoped>\n",
       "    .dataframe tbody tr th:only-of-type {\n",
       "        vertical-align: middle;\n",
       "    }\n",
       "\n",
       "    .dataframe tbody tr th {\n",
       "        vertical-align: top;\n",
       "    }\n",
       "\n",
       "    .dataframe thead th {\n",
       "        text-align: right;\n",
       "    }\n",
       "</style>\n",
       "<table border=\"1\" class=\"dataframe\">\n",
       "  <thead>\n",
       "    <tr style=\"text-align: right;\">\n",
       "      <th></th>\n",
       "      <th>transactionID</th>\n",
       "      <th>Spends</th>\n",
       "      <th>CustomerID</th>\n",
       "      <th>transactionDate</th>\n",
       "      <th>transactionMonth</th>\n",
       "    </tr>\n",
       "  </thead>\n",
       "  <tbody>\n",
       "    <tr>\n",
       "      <td>866066</td>\n",
       "      <td>1866067</td>\n",
       "      <td>40</td>\n",
       "      <td>500001</td>\n",
       "      <td>2015-06-20</td>\n",
       "      <td>Offer_Month</td>\n",
       "    </tr>\n",
       "    <tr>\n",
       "      <td>2063155</td>\n",
       "      <td>3063156</td>\n",
       "      <td>39</td>\n",
       "      <td>500001</td>\n",
       "      <td>2015-10-10</td>\n",
       "      <td>Offer_Month</td>\n",
       "    </tr>\n",
       "  </tbody>\n",
       "</table>\n",
       "</div>"
      ],
      "text/plain": [
       "         transactionID  Spends  CustomerID transactionDate transactionMonth\n",
       "866066         1866067      40      500001      2015-06-20      Offer_Month\n",
       "2063155        3063156      39      500001      2015-10-10      Offer_Month"
      ]
     },
     "execution_count": 135,
     "metadata": {},
     "output_type": "execute_result"
    }
   ],
   "source": [
    "#offer_df[offer_df['CustomerID']==500002]\n",
    "\n",
    "offer_df[offer_df['CustomerID']==500001]"
   ]
  },
  {
   "cell_type": "code",
   "execution_count": 143,
   "metadata": {},
   "outputs": [
    {
     "name": "stdout",
     "output_type": "stream",
     "text": [
      "752112   1759 days\n",
      "752123   1759 days\n",
      "752142   1759 days\n",
      "752158   1759 days\n",
      "752159   1759 days\n",
      "Name: transactionDate, dtype: timedelta64[ns]\n",
      "        transactionID  Spends  CustomerID transactionDate transactionMonth\n",
      "752112        1752113      88      983734      2015-06-01      Offer_Month\n",
      "752123        1752124      31      717744      2015-06-01      Offer_Month\n",
      "752142        1752143     103      942794      2015-06-01      Offer_Month\n",
      "752158        1752159      75      528543      2015-06-01      Offer_Month\n",
      "752159        1752160     108      757247      2015-06-01      Offer_Month\n"
     ]
    }
   ],
   "source": [
    "from datetime import date\n",
    "\n",
    "today = pd.to_datetime(date.today())\n",
    "\n",
    "#offer_df['New_column'] =\n",
    "print(abs(y[0:5]['transactionDate']-today))\n",
    "\n",
    "print(y.head())\n",
    "\n",
    "\n",
    "# def f(row):\n",
    "#     if row[‘date’] > 201110:\n",
    "#         val = 5\n",
    "#     elif row[‘date’] <= 201110 and row[‘date’] > 201108:\n",
    "#         val = 4\n",
    "#     elif row[‘date’] <= 201108 and row[‘date’] > 201106:\n",
    "#         val = 3\n",
    "#     elif row[‘date’] <= 201106 and row[‘date’] > 201104:\n",
    "#         val = 2\n",
    "#     else:\n",
    "#         val = 1\n",
    "#     return val"
   ]
  },
  {
   "cell_type": "code",
   "execution_count": 78,
   "metadata": {},
   "outputs": [
    {
     "data": {
      "text/html": [
       "<div>\n",
       "<style scoped>\n",
       "    .dataframe tbody tr th:only-of-type {\n",
       "        vertical-align: middle;\n",
       "    }\n",
       "\n",
       "    .dataframe tbody tr th {\n",
       "        vertical-align: top;\n",
       "    }\n",
       "\n",
       "    .dataframe thead th {\n",
       "        text-align: right;\n",
       "    }\n",
       "</style>\n",
       "<table border=\"1\" class=\"dataframe\">\n",
       "  <thead>\n",
       "    <tr style=\"text-align: right;\">\n",
       "      <th></th>\n",
       "      <th>Min_Spendings</th>\n",
       "      <th>CustomerID</th>\n",
       "    </tr>\n",
       "    <tr>\n",
       "      <th>CustomerID</th>\n",
       "      <th></th>\n",
       "      <th></th>\n",
       "    </tr>\n",
       "  </thead>\n",
       "  <tbody>\n",
       "    <tr>\n",
       "      <td>500001</td>\n",
       "      <td>39</td>\n",
       "      <td>500001</td>\n",
       "    </tr>\n",
       "    <tr>\n",
       "      <td>500002</td>\n",
       "      <td>21</td>\n",
       "      <td>500002</td>\n",
       "    </tr>\n",
       "    <tr>\n",
       "      <td>500004</td>\n",
       "      <td>20</td>\n",
       "      <td>500004</td>\n",
       "    </tr>\n",
       "    <tr>\n",
       "      <td>500009</td>\n",
       "      <td>30</td>\n",
       "      <td>500009</td>\n",
       "    </tr>\n",
       "    <tr>\n",
       "      <td>500010</td>\n",
       "      <td>17</td>\n",
       "      <td>500010</td>\n",
       "    </tr>\n",
       "  </tbody>\n",
       "</table>\n",
       "</div>"
      ],
      "text/plain": [
       "            Min_Spendings  CustomerID\n",
       "CustomerID                           \n",
       "500001                 39      500001\n",
       "500002                 21      500002\n",
       "500004                 20      500004\n",
       "500009                 30      500009\n",
       "500010                 17      500010"
      ]
     },
     "execution_count": 78,
     "metadata": {},
     "output_type": "execute_result"
    }
   ],
   "source": [
    "#minimum spends of each customer after deleting last-transaction\n",
    "temp_off_df_min = offer_df.groupby(['CustomerID'])['Spends'].min()\n",
    "temp_off_df_min = pd.DataFrame(temp_off_df_min).copy()\n",
    "temp_off_df_min = temp_off_df_min.sort_index()\n",
    "temp_off_df_min = temp_off_df_min.rename(columns={'Spends':'Min_Spendings'})\n",
    "temp_off_df_min['CustomerID'] = temp_off_df_min.index\n",
    "temp_off_df_min.head()"
   ]
  },
  {
   "cell_type": "code",
   "execution_count": 79,
   "metadata": {
    "scrolled": true
   },
   "outputs": [
    {
     "data": {
      "text/html": [
       "<div>\n",
       "<style scoped>\n",
       "    .dataframe tbody tr th:only-of-type {\n",
       "        vertical-align: middle;\n",
       "    }\n",
       "\n",
       "    .dataframe tbody tr th {\n",
       "        vertical-align: top;\n",
       "    }\n",
       "\n",
       "    .dataframe thead th {\n",
       "        text-align: right;\n",
       "    }\n",
       "</style>\n",
       "<table border=\"1\" class=\"dataframe\">\n",
       "  <thead>\n",
       "    <tr style=\"text-align: right;\">\n",
       "      <th></th>\n",
       "      <th>Avg_Spendings</th>\n",
       "      <th>CustomerID</th>\n",
       "    </tr>\n",
       "    <tr>\n",
       "      <th>CustomerID</th>\n",
       "      <th></th>\n",
       "      <th></th>\n",
       "    </tr>\n",
       "  </thead>\n",
       "  <tbody>\n",
       "    <tr>\n",
       "      <td>500001</td>\n",
       "      <td>39.500000</td>\n",
       "      <td>500001</td>\n",
       "    </tr>\n",
       "    <tr>\n",
       "      <td>500002</td>\n",
       "      <td>26.333333</td>\n",
       "      <td>500002</td>\n",
       "    </tr>\n",
       "    <tr>\n",
       "      <td>500004</td>\n",
       "      <td>29.200000</td>\n",
       "      <td>500004</td>\n",
       "    </tr>\n",
       "    <tr>\n",
       "      <td>500009</td>\n",
       "      <td>30.333333</td>\n",
       "      <td>500009</td>\n",
       "    </tr>\n",
       "    <tr>\n",
       "      <td>500010</td>\n",
       "      <td>23.666667</td>\n",
       "      <td>500010</td>\n",
       "    </tr>\n",
       "  </tbody>\n",
       "</table>\n",
       "</div>"
      ],
      "text/plain": [
       "            Avg_Spendings  CustomerID\n",
       "CustomerID                           \n",
       "500001          39.500000      500001\n",
       "500002          26.333333      500002\n",
       "500004          29.200000      500004\n",
       "500009          30.333333      500009\n",
       "500010          23.666667      500010"
      ]
     },
     "execution_count": 79,
     "metadata": {},
     "output_type": "execute_result"
    }
   ],
   "source": [
    "#Averaging spends of each customer after deleting last-transaction\n",
    "temp_off_df = offer_df.groupby(['CustomerID'])['Spends'].mean()\n",
    "temp_off_df = pd.DataFrame(temp_off_df).copy()\n",
    "temp_off_df = temp_off_df.sort_index()\n",
    "temp_off_df = temp_off_df.rename(columns={'Spends':'Avg_Spendings'})\n",
    "temp_off_df['CustomerID'] = temp_off_df.index\n",
    "temp_off_df.head()"
   ]
  },
  {
   "cell_type": "code",
   "execution_count": 80,
   "metadata": {},
   "outputs": [
    {
     "data": {
      "text/html": [
       "<div>\n",
       "<style scoped>\n",
       "    .dataframe tbody tr th:only-of-type {\n",
       "        vertical-align: middle;\n",
       "    }\n",
       "\n",
       "    .dataframe tbody tr th {\n",
       "        vertical-align: top;\n",
       "    }\n",
       "\n",
       "    .dataframe thead th {\n",
       "        text-align: right;\n",
       "    }\n",
       "</style>\n",
       "<table border=\"1\" class=\"dataframe\">\n",
       "  <thead>\n",
       "    <tr style=\"text-align: right;\">\n",
       "      <th></th>\n",
       "      <th>Total_Spendings</th>\n",
       "      <th>CustomerID</th>\n",
       "    </tr>\n",
       "    <tr>\n",
       "      <th>CustomerID</th>\n",
       "      <th></th>\n",
       "      <th></th>\n",
       "    </tr>\n",
       "  </thead>\n",
       "  <tbody>\n",
       "    <tr>\n",
       "      <td>500001</td>\n",
       "      <td>79</td>\n",
       "      <td>500001</td>\n",
       "    </tr>\n",
       "    <tr>\n",
       "      <td>500002</td>\n",
       "      <td>158</td>\n",
       "      <td>500002</td>\n",
       "    </tr>\n",
       "    <tr>\n",
       "      <td>500004</td>\n",
       "      <td>146</td>\n",
       "      <td>500004</td>\n",
       "    </tr>\n",
       "    <tr>\n",
       "      <td>500009</td>\n",
       "      <td>91</td>\n",
       "      <td>500009</td>\n",
       "    </tr>\n",
       "    <tr>\n",
       "      <td>500010</td>\n",
       "      <td>142</td>\n",
       "      <td>500010</td>\n",
       "    </tr>\n",
       "  </tbody>\n",
       "</table>\n",
       "</div>"
      ],
      "text/plain": [
       "            Total_Spendings  CustomerID\n",
       "CustomerID                             \n",
       "500001                   79      500001\n",
       "500002                  158      500002\n",
       "500004                  146      500004\n",
       "500009                   91      500009\n",
       "500010                  142      500010"
      ]
     },
     "execution_count": 80,
     "metadata": {},
     "output_type": "execute_result"
    }
   ],
   "source": [
    "#sum spends of each customer after deleting last-transaction\n",
    "temp_off_df_sum = offer_df.groupby(['CustomerID'])['Spends'].sum()\n",
    "temp_off_df_sum = pd.DataFrame(temp_off_df_sum).copy()\n",
    "temp_off_df_sum = temp_off_df_sum.sort_index()\n",
    "temp_off_df_sum = temp_off_df_sum.rename(columns={'Spends':'Total_Spendings'})\n",
    "temp_off_df_sum['CustomerID'] = temp_off_df_sum.index\n",
    "temp_off_df_sum.head()"
   ]
  },
  {
   "cell_type": "code",
   "execution_count": null,
   "metadata": {},
   "outputs": [],
   "source": []
  },
  {
   "cell_type": "code",
   "execution_count": 81,
   "metadata": {},
   "outputs": [
    {
     "data": {
      "text/html": [
       "<div>\n",
       "<style scoped>\n",
       "    .dataframe tbody tr th:only-of-type {\n",
       "        vertical-align: middle;\n",
       "    }\n",
       "\n",
       "    .dataframe tbody tr th {\n",
       "        vertical-align: top;\n",
       "    }\n",
       "\n",
       "    .dataframe thead th {\n",
       "        text-align: right;\n",
       "    }\n",
       "</style>\n",
       "<table border=\"1\" class=\"dataframe\">\n",
       "  <thead>\n",
       "    <tr style=\"text-align: right;\">\n",
       "      <th></th>\n",
       "      <th>Total_Transactions</th>\n",
       "      <th>CustomerID</th>\n",
       "    </tr>\n",
       "    <tr>\n",
       "      <th>CustomerID</th>\n",
       "      <th></th>\n",
       "      <th></th>\n",
       "    </tr>\n",
       "  </thead>\n",
       "  <tbody>\n",
       "    <tr>\n",
       "      <td>500001</td>\n",
       "      <td>2</td>\n",
       "      <td>500001</td>\n",
       "    </tr>\n",
       "    <tr>\n",
       "      <td>500002</td>\n",
       "      <td>6</td>\n",
       "      <td>500002</td>\n",
       "    </tr>\n",
       "    <tr>\n",
       "      <td>500004</td>\n",
       "      <td>5</td>\n",
       "      <td>500004</td>\n",
       "    </tr>\n",
       "    <tr>\n",
       "      <td>500009</td>\n",
       "      <td>3</td>\n",
       "      <td>500009</td>\n",
       "    </tr>\n",
       "    <tr>\n",
       "      <td>500010</td>\n",
       "      <td>6</td>\n",
       "      <td>500010</td>\n",
       "    </tr>\n",
       "  </tbody>\n",
       "</table>\n",
       "</div>"
      ],
      "text/plain": [
       "            Total_Transactions  CustomerID\n",
       "CustomerID                                \n",
       "500001                       2      500001\n",
       "500002                       6      500002\n",
       "500004                       5      500004\n",
       "500009                       3      500009\n",
       "500010                       6      500010"
      ]
     },
     "execution_count": 81,
     "metadata": {},
     "output_type": "execute_result"
    }
   ],
   "source": [
    "#total number of transactions spends of each customer after deleting last-transaction\n",
    "temp_off_df_total_trans = offer_df.groupby(['CustomerID'])['transactionID'].count()\n",
    "temp_off_df_total_trans = pd.DataFrame(temp_off_df_total_trans).copy()\n",
    "temp_off_df_total_trans = temp_off_df_total_trans.sort_index()\n",
    "temp_off_df_total_trans = temp_off_df_total_trans.rename(columns={'transactionID':'Total_Transactions'})\n",
    "temp_off_df_total_trans['CustomerID'] = temp_off_df_total_trans.index\n",
    "temp_off_df_total_trans.head()"
   ]
  },
  {
   "cell_type": "code",
   "execution_count": 82,
   "metadata": {
    "scrolled": true
   },
   "outputs": [
    {
     "data": {
      "text/html": [
       "<div>\n",
       "<style scoped>\n",
       "    .dataframe tbody tr th:only-of-type {\n",
       "        vertical-align: middle;\n",
       "    }\n",
       "\n",
       "    .dataframe tbody tr th {\n",
       "        vertical-align: top;\n",
       "    }\n",
       "\n",
       "    .dataframe thead th {\n",
       "        text-align: right;\n",
       "    }\n",
       "</style>\n",
       "<table border=\"1\" class=\"dataframe\">\n",
       "  <thead>\n",
       "    <tr style=\"text-align: right;\">\n",
       "      <th></th>\n",
       "      <th>CustomerID</th>\n",
       "      <th>Age</th>\n",
       "      <th>CustomerSince</th>\n",
       "      <th>Gender</th>\n",
       "      <th>Region</th>\n",
       "      <th>Visits</th>\n",
       "      <th>Avg_Spendings</th>\n",
       "      <th>Max_Spendings</th>\n",
       "      <th>Min_Spendings</th>\n",
       "      <th>Total_Spendings</th>\n",
       "      <th>Total_Transactions</th>\n",
       "    </tr>\n",
       "  </thead>\n",
       "  <tbody>\n",
       "    <tr>\n",
       "      <td>0</td>\n",
       "      <td>500001</td>\n",
       "      <td>59</td>\n",
       "      <td>2012</td>\n",
       "      <td>F</td>\n",
       "      <td>East</td>\n",
       "      <td>36</td>\n",
       "      <td>39.500000</td>\n",
       "      <td>40.000000</td>\n",
       "      <td>39.000000</td>\n",
       "      <td>79.000000</td>\n",
       "      <td>2.000000</td>\n",
       "    </tr>\n",
       "    <tr>\n",
       "      <td>1</td>\n",
       "      <td>500002</td>\n",
       "      <td>26</td>\n",
       "      <td>2013</td>\n",
       "      <td>M</td>\n",
       "      <td>East</td>\n",
       "      <td>32</td>\n",
       "      <td>26.333333</td>\n",
       "      <td>31.000000</td>\n",
       "      <td>21.000000</td>\n",
       "      <td>158.000000</td>\n",
       "      <td>6.000000</td>\n",
       "    </tr>\n",
       "    <tr>\n",
       "      <td>3</td>\n",
       "      <td>500004</td>\n",
       "      <td>31</td>\n",
       "      <td>2015</td>\n",
       "      <td>M</td>\n",
       "      <td>West</td>\n",
       "      <td>33</td>\n",
       "      <td>29.200000</td>\n",
       "      <td>33.000000</td>\n",
       "      <td>20.000000</td>\n",
       "      <td>146.000000</td>\n",
       "      <td>5.000000</td>\n",
       "    </tr>\n",
       "    <tr>\n",
       "      <td>5</td>\n",
       "      <td>500006</td>\n",
       "      <td>58</td>\n",
       "      <td>2015</td>\n",
       "      <td>M</td>\n",
       "      <td>West</td>\n",
       "      <td>35</td>\n",
       "      <td>28.793751</td>\n",
       "      <td>33.204947</td>\n",
       "      <td>24.551072</td>\n",
       "      <td>98.642661</td>\n",
       "      <td>3.673639</td>\n",
       "    </tr>\n",
       "    <tr>\n",
       "      <td>8</td>\n",
       "      <td>500009</td>\n",
       "      <td>36</td>\n",
       "      <td>2013</td>\n",
       "      <td>M</td>\n",
       "      <td>West</td>\n",
       "      <td>31</td>\n",
       "      <td>30.333333</td>\n",
       "      <td>31.000000</td>\n",
       "      <td>30.000000</td>\n",
       "      <td>91.000000</td>\n",
       "      <td>3.000000</td>\n",
       "    </tr>\n",
       "    <tr>\n",
       "      <td>...</td>\n",
       "      <td>...</td>\n",
       "      <td>...</td>\n",
       "      <td>...</td>\n",
       "      <td>...</td>\n",
       "      <td>...</td>\n",
       "      <td>...</td>\n",
       "      <td>...</td>\n",
       "      <td>...</td>\n",
       "      <td>...</td>\n",
       "      <td>...</td>\n",
       "      <td>...</td>\n",
       "    </tr>\n",
       "    <tr>\n",
       "      <td>499992</td>\n",
       "      <td>999993</td>\n",
       "      <td>56</td>\n",
       "      <td>2013</td>\n",
       "      <td>M</td>\n",
       "      <td>East</td>\n",
       "      <td>34</td>\n",
       "      <td>30.500000</td>\n",
       "      <td>37.000000</td>\n",
       "      <td>24.000000</td>\n",
       "      <td>61.000000</td>\n",
       "      <td>2.000000</td>\n",
       "    </tr>\n",
       "    <tr>\n",
       "      <td>499995</td>\n",
       "      <td>999996</td>\n",
       "      <td>54</td>\n",
       "      <td>2012</td>\n",
       "      <td>M</td>\n",
       "      <td>West</td>\n",
       "      <td>22</td>\n",
       "      <td>36.000000</td>\n",
       "      <td>40.000000</td>\n",
       "      <td>32.000000</td>\n",
       "      <td>72.000000</td>\n",
       "      <td>2.000000</td>\n",
       "    </tr>\n",
       "    <tr>\n",
       "      <td>499996</td>\n",
       "      <td>999997</td>\n",
       "      <td>56</td>\n",
       "      <td>&lt;2011</td>\n",
       "      <td>F</td>\n",
       "      <td>East</td>\n",
       "      <td>30</td>\n",
       "      <td>34.000000</td>\n",
       "      <td>34.000000</td>\n",
       "      <td>34.000000</td>\n",
       "      <td>34.000000</td>\n",
       "      <td>1.000000</td>\n",
       "    </tr>\n",
       "    <tr>\n",
       "      <td>499997</td>\n",
       "      <td>999998</td>\n",
       "      <td>59</td>\n",
       "      <td>2015</td>\n",
       "      <td>F</td>\n",
       "      <td>West</td>\n",
       "      <td>23</td>\n",
       "      <td>39.250000</td>\n",
       "      <td>47.000000</td>\n",
       "      <td>35.000000</td>\n",
       "      <td>157.000000</td>\n",
       "      <td>4.000000</td>\n",
       "    </tr>\n",
       "    <tr>\n",
       "      <td>499998</td>\n",
       "      <td>999999</td>\n",
       "      <td>40</td>\n",
       "      <td>2015</td>\n",
       "      <td>M</td>\n",
       "      <td>South</td>\n",
       "      <td>29</td>\n",
       "      <td>24.500000</td>\n",
       "      <td>28.000000</td>\n",
       "      <td>23.000000</td>\n",
       "      <td>147.000000</td>\n",
       "      <td>6.000000</td>\n",
       "    </tr>\n",
       "  </tbody>\n",
       "</table>\n",
       "<p>382329 rows × 11 columns</p>\n",
       "</div>"
      ],
      "text/plain": [
       "        CustomerID  Age CustomerSince Gender Region  Visits  Avg_Spendings  \\\n",
       "0           500001   59          2012      F   East      36      39.500000   \n",
       "1           500002   26          2013      M   East      32      26.333333   \n",
       "3           500004   31          2015      M   West      33      29.200000   \n",
       "5           500006   58          2015      M   West      35      28.793751   \n",
       "8           500009   36          2013      M   West      31      30.333333   \n",
       "...            ...  ...           ...    ...    ...     ...            ...   \n",
       "499992      999993   56          2013      M   East      34      30.500000   \n",
       "499995      999996   54          2012      M   West      22      36.000000   \n",
       "499996      999997   56         <2011      F   East      30      34.000000   \n",
       "499997      999998   59          2015      F   West      23      39.250000   \n",
       "499998      999999   40          2015      M  South      29      24.500000   \n",
       "\n",
       "        Max_Spendings  Min_Spendings  Total_Spendings  Total_Transactions  \n",
       "0           40.000000      39.000000        79.000000            2.000000  \n",
       "1           31.000000      21.000000       158.000000            6.000000  \n",
       "3           33.000000      20.000000       146.000000            5.000000  \n",
       "5           33.204947      24.551072        98.642661            3.673639  \n",
       "8           31.000000      30.000000        91.000000            3.000000  \n",
       "...               ...            ...              ...                 ...  \n",
       "499992      37.000000      24.000000        61.000000            2.000000  \n",
       "499995      40.000000      32.000000        72.000000            2.000000  \n",
       "499996      34.000000      34.000000        34.000000            1.000000  \n",
       "499997      47.000000      35.000000       157.000000            4.000000  \n",
       "499998      28.000000      23.000000       147.000000            6.000000  \n",
       "\n",
       "[382329 rows x 11 columns]"
      ]
     },
     "execution_count": 82,
     "metadata": {},
     "output_type": "execute_result"
    }
   ],
   "source": [
    "#off_x is consolidated dataframe of customer(attr, visits, offermonth-trans)\n",
    "#temp_off_df is average spendings of all customers excluding last-transcation\n",
    "#Joining off_x and temp_off_x \n",
    "#temp_off_df is a dataframe with avg.spending of unique customers who purchased in offer-month \n",
    "temp_off_df = off_x.join(temp_off_df.set_index('CustomerID'), on='CustomerID')\n",
    "temp_off_df = temp_off_df.join(temp_off_df_max.set_index('CustomerID'), on='CustomerID')\n",
    "temp_off_df = temp_off_df.join(temp_off_df_min.set_index('CustomerID'), on='CustomerID')\n",
    "temp_off_df = temp_off_df.join(temp_off_df_sum.set_index('CustomerID'), on='CustomerID')\n",
    "temp_off_df = temp_off_df.join(temp_off_df_total_trans.set_index('CustomerID'), on='CustomerID')\n",
    "#Appending value 0 for customers who did 1 transaction\n",
    "#print(temp_off_df['Avg_Spendings'].mean())\n",
    "temp_off_df['Avg_Spendings'] = temp_off_df['Avg_Spendings'].fillna(temp_off_df['Avg_Spendings'].mean())\n",
    "temp_off_df['Max_Spendings'] = temp_off_df['Max_Spendings'].fillna(temp_off_df['Max_Spendings'].mean())\n",
    "temp_off_df['Min_Spendings'] = temp_off_df['Min_Spendings'].fillna(temp_off_df['Min_Spendings'].mean())\n",
    "temp_off_df['Total_Spendings'] = temp_off_df['Total_Spendings'].fillna(temp_off_df['Total_Spendings'].mean())\n",
    "temp_off_df['Avg_Spendings'] = temp_off_df['Avg_Spendings'].fillna(temp_off_df['Avg_Spendings'].mean())\n",
    "temp_off_df['Total_Transactions'] = temp_off_df['Total_Transactions'].fillna(temp_off_df['Total_Transactions'].mean())\n",
    "\n",
    "temp_off_df"
   ]
  },
  {
   "cell_type": "code",
   "execution_count": 149,
   "metadata": {},
   "outputs": [
    {
     "name": "stderr",
     "output_type": "stream",
     "text": [
      "/Users/mounica/opt/anaconda3/lib/python3.7/site-packages/ipykernel_launcher.py:1: SettingWithCopyWarning: \n",
      "A value is trying to be set on a copy of a slice from a DataFrame.\n",
      "Try using .loc[row_indexer,col_indexer] = value instead\n",
      "\n",
      "See the caveats in the documentation: http://pandas.pydata.org/pandas-docs/stable/user_guide/indexing.html#returning-a-view-versus-a-copy\n",
      "  \"\"\"Entry point for launching an IPython kernel.\n"
     ]
    },
    {
     "data": {
      "text/html": [
       "<div>\n",
       "<style scoped>\n",
       "    .dataframe tbody tr th:only-of-type {\n",
       "        vertical-align: middle;\n",
       "    }\n",
       "\n",
       "    .dataframe tbody tr th {\n",
       "        vertical-align: top;\n",
       "    }\n",
       "\n",
       "    .dataframe thead th {\n",
       "        text-align: right;\n",
       "    }\n",
       "</style>\n",
       "<table border=\"1\" class=\"dataframe\">\n",
       "  <thead>\n",
       "    <tr style=\"text-align: right;\">\n",
       "      <th></th>\n",
       "      <th>transactionID</th>\n",
       "      <th>Spends</th>\n",
       "      <th>CustomerID</th>\n",
       "      <th>transactionDate</th>\n",
       "      <th>transactionMonth</th>\n",
       "      <th>Recency_days</th>\n",
       "    </tr>\n",
       "  </thead>\n",
       "  <tbody>\n",
       "    <tr>\n",
       "      <td>2844427</td>\n",
       "      <td>3844428</td>\n",
       "      <td>16</td>\n",
       "      <td>710852</td>\n",
       "      <td>2015-12-31</td>\n",
       "      <td>Offer_Month</td>\n",
       "      <td>1546 days</td>\n",
       "    </tr>\n",
       "    <tr>\n",
       "      <td>2844428</td>\n",
       "      <td>3844429</td>\n",
       "      <td>39</td>\n",
       "      <td>840213</td>\n",
       "      <td>2015-12-31</td>\n",
       "      <td>Offer_Month</td>\n",
       "      <td>1546 days</td>\n",
       "    </tr>\n",
       "    <tr>\n",
       "      <td>2844429</td>\n",
       "      <td>3844430</td>\n",
       "      <td>29</td>\n",
       "      <td>846884</td>\n",
       "      <td>2015-12-31</td>\n",
       "      <td>Offer_Month</td>\n",
       "      <td>1546 days</td>\n",
       "    </tr>\n",
       "    <tr>\n",
       "      <td>2844430</td>\n",
       "      <td>3844431</td>\n",
       "      <td>26</td>\n",
       "      <td>744646</td>\n",
       "      <td>2015-12-31</td>\n",
       "      <td>Offer_Month</td>\n",
       "      <td>1546 days</td>\n",
       "    </tr>\n",
       "    <tr>\n",
       "      <td>2844431</td>\n",
       "      <td>3844432</td>\n",
       "      <td>27</td>\n",
       "      <td>961948</td>\n",
       "      <td>2015-12-31</td>\n",
       "      <td>Offer_Month</td>\n",
       "      <td>1546 days</td>\n",
       "    </tr>\n",
       "  </tbody>\n",
       "</table>\n",
       "</div>"
      ],
      "text/plain": [
       "         transactionID  Spends  CustomerID transactionDate transactionMonth  \\\n",
       "2844427        3844428      16      710852      2015-12-31      Offer_Month   \n",
       "2844428        3844429      39      840213      2015-12-31      Offer_Month   \n",
       "2844429        3844430      29      846884      2015-12-31      Offer_Month   \n",
       "2844430        3844431      26      744646      2015-12-31      Offer_Month   \n",
       "2844431        3844432      27      961948      2015-12-31      Offer_Month   \n",
       "\n",
       "        Recency_days  \n",
       "2844427    1546 days  \n",
       "2844428    1546 days  \n",
       "2844429    1546 days  \n",
       "2844430    1546 days  \n",
       "2844431    1546 days  "
      ]
     },
     "execution_count": 149,
     "metadata": {},
     "output_type": "execute_result"
    }
   ],
   "source": [
    "y['Recency_days']= abs(y['transactionDate']-today)\n",
    "\n",
    "y.tail()\n",
    "    \n",
    "#init_result = pd.merge(customer_attr, customer_visits, on='CustomerID')"
   ]
  },
  {
   "cell_type": "code",
   "execution_count": 145,
   "metadata": {},
   "outputs": [
    {
     "data": {
      "text/html": [
       "<div>\n",
       "<style scoped>\n",
       "    .dataframe tbody tr th:only-of-type {\n",
       "        vertical-align: middle;\n",
       "    }\n",
       "\n",
       "    .dataframe tbody tr th {\n",
       "        vertical-align: top;\n",
       "    }\n",
       "\n",
       "    .dataframe thead th {\n",
       "        text-align: right;\n",
       "    }\n",
       "</style>\n",
       "<table border=\"1\" class=\"dataframe\">\n",
       "  <thead>\n",
       "    <tr style=\"text-align: right;\">\n",
       "      <th></th>\n",
       "      <th>CustomerID</th>\n",
       "      <th>Age</th>\n",
       "      <th>CustomerSince</th>\n",
       "      <th>Gender</th>\n",
       "      <th>Region</th>\n",
       "      <th>Visits</th>\n",
       "      <th>Avg_Spendings</th>\n",
       "      <th>Max_Spendings</th>\n",
       "      <th>Min_Spendings</th>\n",
       "      <th>Total_Spendings</th>\n",
       "      <th>Total_Transactions</th>\n",
       "      <th>Recency_days</th>\n",
       "    </tr>\n",
       "  </thead>\n",
       "  <tbody>\n",
       "    <tr>\n",
       "      <td>0</td>\n",
       "      <td>500001</td>\n",
       "      <td>59</td>\n",
       "      <td>2012</td>\n",
       "      <td>F</td>\n",
       "      <td>East</td>\n",
       "      <td>36</td>\n",
       "      <td>39.500000</td>\n",
       "      <td>40.000000</td>\n",
       "      <td>39.000000</td>\n",
       "      <td>79.000000</td>\n",
       "      <td>2.000000</td>\n",
       "      <td>NaT</td>\n",
       "    </tr>\n",
       "    <tr>\n",
       "      <td>1</td>\n",
       "      <td>500002</td>\n",
       "      <td>26</td>\n",
       "      <td>2013</td>\n",
       "      <td>M</td>\n",
       "      <td>East</td>\n",
       "      <td>32</td>\n",
       "      <td>26.333333</td>\n",
       "      <td>31.000000</td>\n",
       "      <td>21.000000</td>\n",
       "      <td>158.000000</td>\n",
       "      <td>6.000000</td>\n",
       "      <td>NaT</td>\n",
       "    </tr>\n",
       "    <tr>\n",
       "      <td>3</td>\n",
       "      <td>500004</td>\n",
       "      <td>31</td>\n",
       "      <td>2015</td>\n",
       "      <td>M</td>\n",
       "      <td>West</td>\n",
       "      <td>33</td>\n",
       "      <td>29.200000</td>\n",
       "      <td>33.000000</td>\n",
       "      <td>20.000000</td>\n",
       "      <td>146.000000</td>\n",
       "      <td>5.000000</td>\n",
       "      <td>NaT</td>\n",
       "    </tr>\n",
       "    <tr>\n",
       "      <td>5</td>\n",
       "      <td>500006</td>\n",
       "      <td>58</td>\n",
       "      <td>2015</td>\n",
       "      <td>M</td>\n",
       "      <td>West</td>\n",
       "      <td>35</td>\n",
       "      <td>28.793751</td>\n",
       "      <td>33.204947</td>\n",
       "      <td>24.551072</td>\n",
       "      <td>98.642661</td>\n",
       "      <td>3.673639</td>\n",
       "      <td>NaT</td>\n",
       "    </tr>\n",
       "    <tr>\n",
       "      <td>8</td>\n",
       "      <td>500009</td>\n",
       "      <td>36</td>\n",
       "      <td>2013</td>\n",
       "      <td>M</td>\n",
       "      <td>West</td>\n",
       "      <td>31</td>\n",
       "      <td>30.333333</td>\n",
       "      <td>31.000000</td>\n",
       "      <td>30.000000</td>\n",
       "      <td>91.000000</td>\n",
       "      <td>3.000000</td>\n",
       "      <td>NaT</td>\n",
       "    </tr>\n",
       "  </tbody>\n",
       "</table>\n",
       "</div>"
      ],
      "text/plain": [
       "   CustomerID  Age CustomerSince Gender Region  Visits  Avg_Spendings  \\\n",
       "0      500001   59          2012      F   East      36      39.500000   \n",
       "1      500002   26          2013      M   East      32      26.333333   \n",
       "3      500004   31          2015      M   West      33      29.200000   \n",
       "5      500006   58          2015      M   West      35      28.793751   \n",
       "8      500009   36          2013      M   West      31      30.333333   \n",
       "\n",
       "   Max_Spendings  Min_Spendings  Total_Spendings  Total_Transactions  \\\n",
       "0      40.000000      39.000000        79.000000            2.000000   \n",
       "1      31.000000      21.000000       158.000000            6.000000   \n",
       "3      33.000000      20.000000       146.000000            5.000000   \n",
       "5      33.204947      24.551072        98.642661            3.673639   \n",
       "8      31.000000      30.000000        91.000000            3.000000   \n",
       "\n",
       "  Recency_days  \n",
       "0          NaT  \n",
       "1          NaT  \n",
       "3          NaT  \n",
       "5          NaT  \n",
       "8          NaT  "
      ]
     },
     "execution_count": 145,
     "metadata": {},
     "output_type": "execute_result"
    }
   ],
   "source": [
    "temp_off_df.head()"
   ]
  },
  {
   "cell_type": "code",
   "execution_count": null,
   "metadata": {},
   "outputs": [],
   "source": []
  },
  {
   "cell_type": "code",
   "execution_count": 34,
   "metadata": {},
   "outputs": [],
   "source": [
    "#dropping rows with zero total trasactions\n",
    "nan_off_df = temp_off_df.copy() "
   ]
  },
  {
   "cell_type": "code",
   "execution_count": 35,
   "metadata": {},
   "outputs": [
    {
     "data": {
      "text/plain": [
       "(300253, 11)"
      ]
     },
     "execution_count": 35,
     "metadata": {},
     "output_type": "execute_result"
    }
   ],
   "source": [
    "nan_off_df = nan_off_df.dropna()\n",
    "nan_off_df.shape"
   ]
  },
  {
   "cell_type": "code",
   "execution_count": 36,
   "metadata": {
    "scrolled": true
   },
   "outputs": [
    {
     "data": {
      "text/html": [
       "<div>\n",
       "<style scoped>\n",
       "    .dataframe tbody tr th:only-of-type {\n",
       "        vertical-align: middle;\n",
       "    }\n",
       "\n",
       "    .dataframe tbody tr th {\n",
       "        vertical-align: top;\n",
       "    }\n",
       "\n",
       "    .dataframe thead th {\n",
       "        text-align: right;\n",
       "    }\n",
       "</style>\n",
       "<table border=\"1\" class=\"dataframe\">\n",
       "  <thead>\n",
       "    <tr style=\"text-align: right;\">\n",
       "      <th></th>\n",
       "      <th>CustomerID</th>\n",
       "      <th>Age</th>\n",
       "      <th>CustomerSince</th>\n",
       "      <th>Gender</th>\n",
       "      <th>Region</th>\n",
       "      <th>Visits</th>\n",
       "    </tr>\n",
       "  </thead>\n",
       "  <tbody>\n",
       "    <tr>\n",
       "      <td>0</td>\n",
       "      <td>500001</td>\n",
       "      <td>59</td>\n",
       "      <td>2012</td>\n",
       "      <td>F</td>\n",
       "      <td>East</td>\n",
       "      <td>36</td>\n",
       "    </tr>\n",
       "    <tr>\n",
       "      <td>1</td>\n",
       "      <td>500002</td>\n",
       "      <td>26</td>\n",
       "      <td>2013</td>\n",
       "      <td>M</td>\n",
       "      <td>East</td>\n",
       "      <td>32</td>\n",
       "    </tr>\n",
       "    <tr>\n",
       "      <td>3</td>\n",
       "      <td>500004</td>\n",
       "      <td>31</td>\n",
       "      <td>2015</td>\n",
       "      <td>M</td>\n",
       "      <td>West</td>\n",
       "      <td>33</td>\n",
       "    </tr>\n",
       "    <tr>\n",
       "      <td>5</td>\n",
       "      <td>500006</td>\n",
       "      <td>58</td>\n",
       "      <td>2015</td>\n",
       "      <td>M</td>\n",
       "      <td>West</td>\n",
       "      <td>35</td>\n",
       "    </tr>\n",
       "    <tr>\n",
       "      <td>8</td>\n",
       "      <td>500009</td>\n",
       "      <td>36</td>\n",
       "      <td>2013</td>\n",
       "      <td>M</td>\n",
       "      <td>West</td>\n",
       "      <td>31</td>\n",
       "    </tr>\n",
       "    <tr>\n",
       "      <td>...</td>\n",
       "      <td>...</td>\n",
       "      <td>...</td>\n",
       "      <td>...</td>\n",
       "      <td>...</td>\n",
       "      <td>...</td>\n",
       "      <td>...</td>\n",
       "    </tr>\n",
       "    <tr>\n",
       "      <td>499992</td>\n",
       "      <td>999993</td>\n",
       "      <td>56</td>\n",
       "      <td>2013</td>\n",
       "      <td>M</td>\n",
       "      <td>East</td>\n",
       "      <td>34</td>\n",
       "    </tr>\n",
       "    <tr>\n",
       "      <td>499995</td>\n",
       "      <td>999996</td>\n",
       "      <td>54</td>\n",
       "      <td>2012</td>\n",
       "      <td>M</td>\n",
       "      <td>West</td>\n",
       "      <td>22</td>\n",
       "    </tr>\n",
       "    <tr>\n",
       "      <td>499996</td>\n",
       "      <td>999997</td>\n",
       "      <td>56</td>\n",
       "      <td>&lt;2011</td>\n",
       "      <td>F</td>\n",
       "      <td>East</td>\n",
       "      <td>30</td>\n",
       "    </tr>\n",
       "    <tr>\n",
       "      <td>499997</td>\n",
       "      <td>999998</td>\n",
       "      <td>59</td>\n",
       "      <td>2015</td>\n",
       "      <td>F</td>\n",
       "      <td>West</td>\n",
       "      <td>23</td>\n",
       "    </tr>\n",
       "    <tr>\n",
       "      <td>499998</td>\n",
       "      <td>999999</td>\n",
       "      <td>40</td>\n",
       "      <td>2015</td>\n",
       "      <td>M</td>\n",
       "      <td>South</td>\n",
       "      <td>29</td>\n",
       "    </tr>\n",
       "  </tbody>\n",
       "</table>\n",
       "<p>382329 rows × 6 columns</p>\n",
       "</div>"
      ],
      "text/plain": [
       "        CustomerID  Age CustomerSince Gender Region  Visits\n",
       "0           500001   59          2012      F   East      36\n",
       "1           500002   26          2013      M   East      32\n",
       "3           500004   31          2015      M   West      33\n",
       "5           500006   58          2015      M   West      35\n",
       "8           500009   36          2013      M   West      31\n",
       "...            ...  ...           ...    ...    ...     ...\n",
       "499992      999993   56          2013      M   East      34\n",
       "499995      999996   54          2012      M   West      22\n",
       "499996      999997   56         <2011      F   East      30\n",
       "499997      999998   59          2015      F   West      23\n",
       "499998      999999   40          2015      M  South      29\n",
       "\n",
       "[382329 rows x 6 columns]"
      ]
     },
     "execution_count": 36,
     "metadata": {},
     "output_type": "execute_result"
    }
   ],
   "source": [
    "off_x"
   ]
  },
  {
   "cell_type": "code",
   "execution_count": 37,
   "metadata": {},
   "outputs": [
    {
     "name": "stdout",
     "output_type": "stream",
     "text": [
      "temp_off_df shape (300253, 11)\n",
      "y shape (382329, 5)\n"
     ]
    }
   ],
   "source": [
    "print(f'temp_off_df shape {nan_off_df.shape}')\n",
    "print(f'y shape {y.shape}')\n",
    "#y.head()\n",
    "\n"
   ]
  },
  {
   "cell_type": "code",
   "execution_count": 38,
   "metadata": {},
   "outputs": [
    {
     "data": {
      "text/html": [
       "<div>\n",
       "<style scoped>\n",
       "    .dataframe tbody tr th:only-of-type {\n",
       "        vertical-align: middle;\n",
       "    }\n",
       "\n",
       "    .dataframe tbody tr th {\n",
       "        vertical-align: top;\n",
       "    }\n",
       "\n",
       "    .dataframe thead th {\n",
       "        text-align: right;\n",
       "    }\n",
       "</style>\n",
       "<table border=\"1\" class=\"dataframe\">\n",
       "  <thead>\n",
       "    <tr style=\"text-align: right;\">\n",
       "      <th></th>\n",
       "      <th>CustomerID</th>\n",
       "      <th>Spends</th>\n",
       "    </tr>\n",
       "  </thead>\n",
       "  <tbody>\n",
       "    <tr>\n",
       "      <td>752112</td>\n",
       "      <td>983734</td>\n",
       "      <td>88</td>\n",
       "    </tr>\n",
       "    <tr>\n",
       "      <td>752123</td>\n",
       "      <td>717744</td>\n",
       "      <td>31</td>\n",
       "    </tr>\n",
       "    <tr>\n",
       "      <td>752142</td>\n",
       "      <td>942794</td>\n",
       "      <td>103</td>\n",
       "    </tr>\n",
       "    <tr>\n",
       "      <td>752158</td>\n",
       "      <td>528543</td>\n",
       "      <td>75</td>\n",
       "    </tr>\n",
       "    <tr>\n",
       "      <td>752159</td>\n",
       "      <td>757247</td>\n",
       "      <td>108</td>\n",
       "    </tr>\n",
       "  </tbody>\n",
       "</table>\n",
       "</div>"
      ],
      "text/plain": [
       "        CustomerID  Spends\n",
       "752112      983734      88\n",
       "752123      717744      31\n",
       "752142      942794     103\n",
       "752158      528543      75\n",
       "752159      757247     108"
      ]
     },
     "execution_count": 38,
     "metadata": {},
     "output_type": "execute_result"
    }
   ],
   "source": [
    "off_spend_pred = (y[['CustomerID', 'Spends']])\n",
    "off_spend_pred.head()\n",
    "# y.head()"
   ]
  },
  {
   "cell_type": "code",
   "execution_count": 39,
   "metadata": {
    "scrolled": true
   },
   "outputs": [
    {
     "data": {
      "text/plain": [
       "(382329, 12)"
      ]
     },
     "execution_count": 39,
     "metadata": {},
     "output_type": "execute_result"
    }
   ],
   "source": [
    "temp_off_df = temp_off_df.join(off_spend_pred.set_index('CustomerID'), on='CustomerID')\n",
    "temp_off_df = temp_off_df.rename(columns={'Spends':'Exp_Spend'})\n",
    "temp_off_df.shape"
   ]
  },
  {
   "cell_type": "code",
   "execution_count": 40,
   "metadata": {},
   "outputs": [
    {
     "data": {
      "text/html": [
       "<div>\n",
       "<style scoped>\n",
       "    .dataframe tbody tr th:only-of-type {\n",
       "        vertical-align: middle;\n",
       "    }\n",
       "\n",
       "    .dataframe tbody tr th {\n",
       "        vertical-align: top;\n",
       "    }\n",
       "\n",
       "    .dataframe thead th {\n",
       "        text-align: right;\n",
       "    }\n",
       "</style>\n",
       "<table border=\"1\" class=\"dataframe\">\n",
       "  <thead>\n",
       "    <tr style=\"text-align: right;\">\n",
       "      <th></th>\n",
       "      <th>CustomerID</th>\n",
       "      <th>Age</th>\n",
       "      <th>CustomerSince</th>\n",
       "      <th>Gender</th>\n",
       "      <th>Region</th>\n",
       "      <th>Visits</th>\n",
       "      <th>Avg_Spendings</th>\n",
       "      <th>Max_Spendings</th>\n",
       "      <th>Min_Spendings</th>\n",
       "      <th>Total_Spendings</th>\n",
       "      <th>Total_Transactions</th>\n",
       "      <th>Exp_Spend</th>\n",
       "    </tr>\n",
       "  </thead>\n",
       "  <tbody>\n",
       "    <tr>\n",
       "      <td>0</td>\n",
       "      <td>500001</td>\n",
       "      <td>59</td>\n",
       "      <td>2012</td>\n",
       "      <td>F</td>\n",
       "      <td>East</td>\n",
       "      <td>36</td>\n",
       "      <td>39.500000</td>\n",
       "      <td>40.0</td>\n",
       "      <td>39.0</td>\n",
       "      <td>79.0</td>\n",
       "      <td>2.0</td>\n",
       "      <td>31</td>\n",
       "    </tr>\n",
       "    <tr>\n",
       "      <td>1</td>\n",
       "      <td>500002</td>\n",
       "      <td>26</td>\n",
       "      <td>2013</td>\n",
       "      <td>M</td>\n",
       "      <td>East</td>\n",
       "      <td>32</td>\n",
       "      <td>26.333333</td>\n",
       "      <td>31.0</td>\n",
       "      <td>21.0</td>\n",
       "      <td>158.0</td>\n",
       "      <td>6.0</td>\n",
       "      <td>19</td>\n",
       "    </tr>\n",
       "    <tr>\n",
       "      <td>3</td>\n",
       "      <td>500004</td>\n",
       "      <td>31</td>\n",
       "      <td>2015</td>\n",
       "      <td>M</td>\n",
       "      <td>West</td>\n",
       "      <td>33</td>\n",
       "      <td>29.200000</td>\n",
       "      <td>33.0</td>\n",
       "      <td>20.0</td>\n",
       "      <td>146.0</td>\n",
       "      <td>5.0</td>\n",
       "      <td>33</td>\n",
       "    </tr>\n",
       "    <tr>\n",
       "      <td>5</td>\n",
       "      <td>500006</td>\n",
       "      <td>58</td>\n",
       "      <td>2015</td>\n",
       "      <td>M</td>\n",
       "      <td>West</td>\n",
       "      <td>35</td>\n",
       "      <td>NaN</td>\n",
       "      <td>NaN</td>\n",
       "      <td>NaN</td>\n",
       "      <td>NaN</td>\n",
       "      <td>NaN</td>\n",
       "      <td>49</td>\n",
       "    </tr>\n",
       "    <tr>\n",
       "      <td>8</td>\n",
       "      <td>500009</td>\n",
       "      <td>36</td>\n",
       "      <td>2013</td>\n",
       "      <td>M</td>\n",
       "      <td>West</td>\n",
       "      <td>31</td>\n",
       "      <td>30.333333</td>\n",
       "      <td>31.0</td>\n",
       "      <td>30.0</td>\n",
       "      <td>91.0</td>\n",
       "      <td>3.0</td>\n",
       "      <td>30</td>\n",
       "    </tr>\n",
       "  </tbody>\n",
       "</table>\n",
       "</div>"
      ],
      "text/plain": [
       "   CustomerID  Age CustomerSince Gender Region  Visits  Avg_Spendings  \\\n",
       "0      500001   59          2012      F   East      36      39.500000   \n",
       "1      500002   26          2013      M   East      32      26.333333   \n",
       "3      500004   31          2015      M   West      33      29.200000   \n",
       "5      500006   58          2015      M   West      35            NaN   \n",
       "8      500009   36          2013      M   West      31      30.333333   \n",
       "\n",
       "   Max_Spendings  Min_Spendings  Total_Spendings  Total_Transactions  \\\n",
       "0           40.0           39.0             79.0                 2.0   \n",
       "1           31.0           21.0            158.0                 6.0   \n",
       "3           33.0           20.0            146.0                 5.0   \n",
       "5            NaN            NaN              NaN                 NaN   \n",
       "8           31.0           30.0             91.0                 3.0   \n",
       "\n",
       "   Exp_Spend  \n",
       "0         31  \n",
       "1         19  \n",
       "3         33  \n",
       "5         49  \n",
       "8         30  "
      ]
     },
     "execution_count": 40,
     "metadata": {},
     "output_type": "execute_result"
    }
   ],
   "source": [
    "temp_off_df.head()"
   ]
  },
  {
   "cell_type": "code",
   "execution_count": null,
   "metadata": {},
   "outputs": [],
   "source": []
  },
  {
   "cell_type": "code",
   "execution_count": 41,
   "metadata": {},
   "outputs": [],
   "source": [
    "#Converting categorical data\n",
    "def encode(column, dataframe):\n",
    "    one_hot = pd.get_dummies(dataframe[column])\n",
    "    dataframe = dataframe.drop(column,axis = 1)\n",
    "    dataframe = dataframe.join(one_hot)\n",
    "    return dataframe"
   ]
  },
  {
   "cell_type": "code",
   "execution_count": 42,
   "metadata": {},
   "outputs": [],
   "source": [
    "temp_off_df = encode('Gender', temp_off_df)\n",
    "temp_off_df = encode('Region', temp_off_df)\n"
   ]
  },
  {
   "cell_type": "code",
   "execution_count": 43,
   "metadata": {},
   "outputs": [
    {
     "name": "stderr",
     "output_type": "stream",
     "text": [
      "/Users/mounica/opt/anaconda3/lib/python3.7/site-packages/ipykernel_launcher.py:1: SettingWithCopyWarning: \n",
      "A value is trying to be set on a copy of a slice from a DataFrame\n",
      "\n",
      "See the caveats in the documentation: http://pandas.pydata.org/pandas-docs/stable/user_guide/indexing.html#returning-a-view-versus-a-copy\n",
      "  \"\"\"Entry point for launching an IPython kernel.\n",
      "/Users/mounica/opt/anaconda3/lib/python3.7/site-packages/ipykernel_launcher.py:2: SettingWithCopyWarning: \n",
      "A value is trying to be set on a copy of a slice from a DataFrame\n",
      "\n",
      "See the caveats in the documentation: http://pandas.pydata.org/pandas-docs/stable/user_guide/indexing.html#returning-a-view-versus-a-copy\n",
      "  \n",
      "/Users/mounica/opt/anaconda3/lib/python3.7/site-packages/ipykernel_launcher.py:3: SettingWithCopyWarning: \n",
      "A value is trying to be set on a copy of a slice from a DataFrame\n",
      "\n",
      "See the caveats in the documentation: http://pandas.pydata.org/pandas-docs/stable/user_guide/indexing.html#returning-a-view-versus-a-copy\n",
      "  This is separate from the ipykernel package so we can avoid doing imports until\n",
      "/Users/mounica/opt/anaconda3/lib/python3.7/site-packages/ipykernel_launcher.py:4: SettingWithCopyWarning: \n",
      "A value is trying to be set on a copy of a slice from a DataFrame\n",
      "\n",
      "See the caveats in the documentation: http://pandas.pydata.org/pandas-docs/stable/user_guide/indexing.html#returning-a-view-versus-a-copy\n",
      "  after removing the cwd from sys.path.\n",
      "/Users/mounica/opt/anaconda3/lib/python3.7/site-packages/ipykernel_launcher.py:5: SettingWithCopyWarning: \n",
      "A value is trying to be set on a copy of a slice from a DataFrame\n",
      "\n",
      "See the caveats in the documentation: http://pandas.pydata.org/pandas-docs/stable/user_guide/indexing.html#returning-a-view-versus-a-copy\n",
      "  \"\"\"\n"
     ]
    }
   ],
   "source": [
    "temp_off_df['CustomerSince'][temp_off_df['CustomerSince'] == '<2011'] = 5\n",
    "temp_off_df['CustomerSince'][temp_off_df['CustomerSince'] == '2015'] = 1\n",
    "temp_off_df['CustomerSince'][temp_off_df['CustomerSince'] == '2014'] = 2\n",
    "temp_off_df['CustomerSince'][temp_off_df['CustomerSince'] == '2013'] = 3\n",
    "temp_off_df['CustomerSince'][temp_off_df['CustomerSince'] == '2012'] = 4"
   ]
  },
  {
   "cell_type": "code",
   "execution_count": 44,
   "metadata": {},
   "outputs": [
    {
     "data": {
      "text/html": [
       "<div>\n",
       "<style scoped>\n",
       "    .dataframe tbody tr th:only-of-type {\n",
       "        vertical-align: middle;\n",
       "    }\n",
       "\n",
       "    .dataframe tbody tr th {\n",
       "        vertical-align: top;\n",
       "    }\n",
       "\n",
       "    .dataframe thead th {\n",
       "        text-align: right;\n",
       "    }\n",
       "</style>\n",
       "<table border=\"1\" class=\"dataframe\">\n",
       "  <thead>\n",
       "    <tr style=\"text-align: right;\">\n",
       "      <th></th>\n",
       "      <th>CustomerID</th>\n",
       "      <th>Age</th>\n",
       "      <th>CustomerSince</th>\n",
       "      <th>Visits</th>\n",
       "      <th>Avg_Spendings</th>\n",
       "      <th>Max_Spendings</th>\n",
       "      <th>Min_Spendings</th>\n",
       "      <th>Total_Spendings</th>\n",
       "      <th>Total_Transactions</th>\n",
       "      <th>Exp_Spend</th>\n",
       "      <th>F</th>\n",
       "      <th>M</th>\n",
       "      <th>East</th>\n",
       "      <th>North</th>\n",
       "      <th>South</th>\n",
       "      <th>West</th>\n",
       "    </tr>\n",
       "  </thead>\n",
       "  <tbody>\n",
       "    <tr>\n",
       "      <td>0</td>\n",
       "      <td>500001</td>\n",
       "      <td>59</td>\n",
       "      <td>4</td>\n",
       "      <td>36</td>\n",
       "      <td>39.50</td>\n",
       "      <td>40.0</td>\n",
       "      <td>39.0</td>\n",
       "      <td>79.0</td>\n",
       "      <td>2.0</td>\n",
       "      <td>31</td>\n",
       "      <td>1</td>\n",
       "      <td>0</td>\n",
       "      <td>1</td>\n",
       "      <td>0</td>\n",
       "      <td>0</td>\n",
       "      <td>0</td>\n",
       "    </tr>\n",
       "    <tr>\n",
       "      <td>1</td>\n",
       "      <td>500002</td>\n",
       "      <td>26</td>\n",
       "      <td>3</td>\n",
       "      <td>32</td>\n",
       "      <td>26.33</td>\n",
       "      <td>31.0</td>\n",
       "      <td>21.0</td>\n",
       "      <td>158.0</td>\n",
       "      <td>6.0</td>\n",
       "      <td>19</td>\n",
       "      <td>0</td>\n",
       "      <td>1</td>\n",
       "      <td>1</td>\n",
       "      <td>0</td>\n",
       "      <td>0</td>\n",
       "      <td>0</td>\n",
       "    </tr>\n",
       "    <tr>\n",
       "      <td>3</td>\n",
       "      <td>500004</td>\n",
       "      <td>31</td>\n",
       "      <td>1</td>\n",
       "      <td>33</td>\n",
       "      <td>29.20</td>\n",
       "      <td>33.0</td>\n",
       "      <td>20.0</td>\n",
       "      <td>146.0</td>\n",
       "      <td>5.0</td>\n",
       "      <td>33</td>\n",
       "      <td>0</td>\n",
       "      <td>1</td>\n",
       "      <td>0</td>\n",
       "      <td>0</td>\n",
       "      <td>0</td>\n",
       "      <td>1</td>\n",
       "    </tr>\n",
       "    <tr>\n",
       "      <td>5</td>\n",
       "      <td>500006</td>\n",
       "      <td>58</td>\n",
       "      <td>1</td>\n",
       "      <td>35</td>\n",
       "      <td>NaN</td>\n",
       "      <td>NaN</td>\n",
       "      <td>NaN</td>\n",
       "      <td>NaN</td>\n",
       "      <td>NaN</td>\n",
       "      <td>49</td>\n",
       "      <td>0</td>\n",
       "      <td>1</td>\n",
       "      <td>0</td>\n",
       "      <td>0</td>\n",
       "      <td>0</td>\n",
       "      <td>1</td>\n",
       "    </tr>\n",
       "    <tr>\n",
       "      <td>8</td>\n",
       "      <td>500009</td>\n",
       "      <td>36</td>\n",
       "      <td>3</td>\n",
       "      <td>31</td>\n",
       "      <td>30.33</td>\n",
       "      <td>31.0</td>\n",
       "      <td>30.0</td>\n",
       "      <td>91.0</td>\n",
       "      <td>3.0</td>\n",
       "      <td>30</td>\n",
       "      <td>0</td>\n",
       "      <td>1</td>\n",
       "      <td>0</td>\n",
       "      <td>0</td>\n",
       "      <td>0</td>\n",
       "      <td>1</td>\n",
       "    </tr>\n",
       "  </tbody>\n",
       "</table>\n",
       "</div>"
      ],
      "text/plain": [
       "   CustomerID  Age CustomerSince  Visits  Avg_Spendings  Max_Spendings  \\\n",
       "0      500001   59             4      36          39.50           40.0   \n",
       "1      500002   26             3      32          26.33           31.0   \n",
       "3      500004   31             1      33          29.20           33.0   \n",
       "5      500006   58             1      35            NaN            NaN   \n",
       "8      500009   36             3      31          30.33           31.0   \n",
       "\n",
       "   Min_Spendings  Total_Spendings  Total_Transactions  Exp_Spend  F  M  East  \\\n",
       "0           39.0             79.0                 2.0         31  1  0     1   \n",
       "1           21.0            158.0                 6.0         19  0  1     1   \n",
       "3           20.0            146.0                 5.0         33  0  1     0   \n",
       "5            NaN              NaN                 NaN         49  0  1     0   \n",
       "8           30.0             91.0                 3.0         30  0  1     0   \n",
       "\n",
       "   North  South  West  \n",
       "0      0      0     0  \n",
       "1      0      0     0  \n",
       "3      0      0     1  \n",
       "5      0      0     1  \n",
       "8      0      0     1  "
      ]
     },
     "execution_count": 44,
     "metadata": {},
     "output_type": "execute_result"
    }
   ],
   "source": [
    "temp_off_df=temp_off_df.round(decimals=2)\n",
    "temp_off_df.head()"
   ]
  },
  {
   "cell_type": "code",
   "execution_count": 100,
   "metadata": {},
   "outputs": [
    {
     "ename": "NameError",
     "evalue": "name 'off_df' is not defined",
     "output_type": "error",
     "traceback": [
      "\u001b[0;31m---------------------------------------------------------------------------\u001b[0m",
      "\u001b[0;31mNameError\u001b[0m                                 Traceback (most recent call last)",
      "\u001b[0;32m<ipython-input-100-5d941fe1f6fa>\u001b[0m in \u001b[0;36m<module>\u001b[0;34m\u001b[0m\n\u001b[0;32m----> 1\u001b[0;31m \u001b[0moff_df\u001b[0m\u001b[0;34m[\u001b[0m\u001b[0;34m'CustomerID'\u001b[0m\u001b[0;34m]\u001b[0m\u001b[0;34m.\u001b[0m\u001b[0mnunique\u001b[0m\u001b[0;34m(\u001b[0m\u001b[0;34m)\u001b[0m\u001b[0;34m\u001b[0m\u001b[0;34m\u001b[0m\u001b[0m\n\u001b[0m",
      "\u001b[0;31mNameError\u001b[0m: name 'off_df' is not defined"
     ]
    }
   ],
   "source": [
    "off_df['CustomerID'].nunique()"
   ]
  },
  {
   "cell_type": "code",
   "execution_count": 45,
   "metadata": {},
   "outputs": [],
   "source": [
    "#Separating independent and dependent variable from offer-month dataframe(temp_off_df)\n",
    "X_off = temp_off_df.drop(['CustomerID', 'Exp_Spend'], axis = 1).values\n",
    "Y_off = temp_off_df['Exp_Spend'].values"
   ]
  },
  {
   "cell_type": "code",
   "execution_count": 46,
   "metadata": {},
   "outputs": [
    {
     "data": {
      "text/plain": [
       "array([[59, 4, 36, ..., 0, 0, 0],\n",
       "       [26, 3, 32, ..., 0, 0, 0],\n",
       "       [31, 1, 33, ..., 0, 0, 1],\n",
       "       ...,\n",
       "       [56, 5, 30, ..., 0, 0, 0],\n",
       "       [59, 1, 23, ..., 0, 0, 1],\n",
       "       [40, 1, 29, ..., 0, 1, 0]], dtype=object)"
      ]
     },
     "execution_count": 46,
     "metadata": {},
     "output_type": "execute_result"
    }
   ],
   "source": [
    "X_off"
   ]
  },
  {
   "cell_type": "code",
   "execution_count": 47,
   "metadata": {},
   "outputs": [
    {
     "data": {
      "text/plain": [
       "Index(['Avg_Spendings', 'Max_Spendings', 'Min_Spendings', 'Total_Spendings',\n",
       "       'Total_Transactions'],\n",
       "      dtype='object')"
      ]
     },
     "execution_count": 47,
     "metadata": {},
     "output_type": "execute_result"
    }
   ],
   "source": [
    "#temp_off_df.isnull().sum()\n",
    "temp_off_df.columns[temp_off_df.isnull().sum()>0]"
   ]
  },
  {
   "cell_type": "code",
   "execution_count": 48,
   "metadata": {},
   "outputs": [
    {
     "data": {
      "text/plain": [
       "array([[59, 4, 36, ..., 0, 0, 0],\n",
       "       [26, 3, 32, ..., 0, 0, 0],\n",
       "       [31, 1, 33, ..., 0, 0, 1],\n",
       "       ...,\n",
       "       [56, 5, 30, ..., 0, 0, 0],\n",
       "       [59, 1, 23, ..., 0, 0, 1],\n",
       "       [40, 1, 29, ..., 0, 1, 0]], dtype=object)"
      ]
     },
     "execution_count": 48,
     "metadata": {},
     "output_type": "execute_result"
    }
   ],
   "source": [
    "X_off"
   ]
  },
  {
   "cell_type": "code",
   "execution_count": 184,
   "metadata": {},
   "outputs": [],
   "source": [
    "#Splitting test and train data for offer-month dataframe\n",
    "from sklearn.model_selection import train_test_split\n",
    "X_off_train, X_off_test, y_off_train, y_off_test = train_test_split(X_off, Y_off, test_size=0.1, random_state=42)"
   ]
  },
  {
   "cell_type": "code",
   "execution_count": 185,
   "metadata": {},
   "outputs": [],
   "source": [
    "#Implementing feature_scaling for independent variables\n",
    "from sklearn.preprocessing import StandardScaler\n",
    "# sc_X = StandardScaler()\n",
    "# X_off = sc_X.fit_transform(X_off_train)\n",
    "# independent_test = sc_X.transform(independent_test)"
   ]
  },
  {
   "cell_type": "code",
   "execution_count": 186,
   "metadata": {},
   "outputs": [
    {
     "data": {
      "text/plain": [
       "LinearRegression(copy_X=True, fit_intercept=True, n_jobs=None, normalize=False)"
      ]
     },
     "execution_count": 186,
     "metadata": {},
     "output_type": "execute_result"
    }
   ],
   "source": [
    "#Applying Multiple Linear Regression \n",
    "from sklearn.linear_model import LinearRegression\n",
    "regressor = LinearRegression()\n",
    "regressor.fit(X_off_train, y_off_train)"
   ]
  },
  {
   "cell_type": "code",
   "execution_count": 194,
   "metadata": {},
   "outputs": [
    {
     "data": {
      "text/plain": [
       "DecisionTreeRegressor(criterion='mse', max_depth=None, max_features=None,\n",
       "                      max_leaf_nodes=None, min_impurity_decrease=0.0,\n",
       "                      min_impurity_split=None, min_samples_leaf=1,\n",
       "                      min_samples_split=2, min_weight_fraction_leaf=0.0,\n",
       "                      presort=False, random_state=None, splitter='best')"
      ]
     },
     "execution_count": 194,
     "metadata": {},
     "output_type": "execute_result"
    }
   ],
   "source": [
    "from sklearn.tree import DecisionTreeRegressor\n",
    "model =DecisionTreeRegressor()\n",
    "model.fit(X_off_train, y_off_train)"
   ]
  },
  {
   "cell_type": "code",
   "execution_count": 195,
   "metadata": {},
   "outputs": [],
   "source": [
    "y_off_pred = model.predict(X_off_test)"
   ]
  },
  {
   "cell_type": "code",
   "execution_count": 196,
   "metadata": {},
   "outputs": [
    {
     "name": "stdout",
     "output_type": "stream",
     "text": [
      "[19.         25.         50.41666667 27.         43.         30.\n",
      " 56.         69.16129032 30.         82.75      ]\n"
     ]
    },
    {
     "data": {
      "text/plain": [
       "array([22, 27, 85, 54, 47, 17, 33, 69, 28, 64])"
      ]
     },
     "execution_count": 196,
     "metadata": {},
     "output_type": "execute_result"
    }
   ],
   "source": [
    "print(y_off_pred[:10])\n",
    "y_off_test[:10]"
   ]
  },
  {
   "cell_type": "code",
   "execution_count": 187,
   "metadata": {},
   "outputs": [],
   "source": [
    "#predicting values for X test data\n",
    "y_off_pred = regressor.predict(X_off_test)"
   ]
  },
  {
   "cell_type": "code",
   "execution_count": 193,
   "metadata": {},
   "outputs": [
    {
     "name": "stdout",
     "output_type": "stream",
     "text": [
      "[35.20073333 40.11478528 44.2518863  40.59802379 61.73102007 35.60262969\n",
      " 65.75804551 54.93418247 34.69065332 39.4261971 ]\n"
     ]
    },
    {
     "data": {
      "text/plain": [
       "array([22, 27, 85, 54, 47, 17, 33, 69, 28, 64])"
      ]
     },
     "execution_count": 193,
     "metadata": {},
     "output_type": "execute_result"
    }
   ],
   "source": [
    "print(y_off_pred[:10])\n",
    "y_off_test[:10]"
   ]
  },
  {
   "cell_type": "code",
   "execution_count": 197,
   "metadata": {},
   "outputs": [
    {
     "data": {
      "text/plain": [
       "167.23953241686814"
      ]
     },
     "execution_count": 197,
     "metadata": {},
     "output_type": "execute_result"
    }
   ],
   "source": [
    "#Checking accuracy\n",
    "# from sklearn.metrics import accuracy_score\n",
    "# accuracy_score(X_off_test, y_off_pred)\n",
    "from sklearn.metrics import mean_squared_error \n",
    "mean_squared_error(y_off_test, y_off_pred)"
   ]
  },
  {
   "cell_type": "code",
   "execution_count": 200,
   "metadata": {},
   "outputs": [
    {
     "name": "stdout",
     "output_type": "stream",
     "text": [
      "Collecting xgboost\n",
      "\u001b[?25l  Downloading https://files.pythonhosted.org/packages/36/a5/703d93321f57048596217789be7c186304a33aff5b1c48c89597a546c65e/xgboost-1.0.2.tar.gz (821kB)\n",
      "\u001b[K     |████████████████████████████████| 829kB 1.6MB/s eta 0:00:01\n",
      "\u001b[?25hRequirement already satisfied: numpy in /Users/mounica/opt/anaconda3/lib/python3.7/site-packages (from xgboost) (1.17.2)\n",
      "Requirement already satisfied: scipy in /Users/mounica/opt/anaconda3/lib/python3.7/site-packages (from xgboost) (1.3.1)\n",
      "Building wheels for collected packages: xgboost\n",
      "  Building wheel for xgboost (setup.py) ... \u001b[?25ldone\n",
      "\u001b[?25h  Created wheel for xgboost: filename=xgboost-1.0.2-cp37-cp37m-macosx_10_9_x86_64.whl size=3419084 sha256=54e958556c2e9c68326587a88f2e37660ac5a7e51082c0b0ff6f276cc79f47e0\n",
      "  Stored in directory: /Users/mounica/Library/Caches/pip/wheels/2d/88/a6/eae5e2f880d228c2e8c057a2b166a05306f41e1ceaa2a01b45\n",
      "Successfully built xgboost\n",
      "Installing collected packages: xgboost\n",
      "Successfully installed xgboost-1.0.2\n"
     ]
    }
   ],
   "source": [
    "#import xgboost\n",
    "!pip install xgboost\n",
    "from xgboost.sklearn import XGBRegressor"
   ]
  },
  {
   "cell_type": "code",
   "execution_count": 247,
   "metadata": {},
   "outputs": [
    {
     "name": "stdout",
     "output_type": "stream",
     "text": [
      "[25.15566  25.638315 68.20043  36.52207  41.783318 25.495071 45.308414\n",
      " 71.60938  25.157457 64.695915]\n"
     ]
    },
    {
     "data": {
      "text/plain": [
       "array([22, 27, 85, 54, 47, 17, 33, 69, 28, 64])"
      ]
     },
     "execution_count": 247,
     "metadata": {},
     "output_type": "execute_result"
    }
   ],
   "source": [
    "model_xgb =XGBRegressor()\n",
    "model_xgb.fit(X_off_train, y_off_train)\n",
    "y_off_pred = model_xgb.predict(X_off_test)\n",
    "print(y_off_pred[:10])\n",
    "y_off_test[:10]"
   ]
  },
  {
   "cell_type": "code",
   "execution_count": 248,
   "metadata": {},
   "outputs": [
    {
     "data": {
      "text/plain": [
       "122.97698885592213"
      ]
     },
     "execution_count": 248,
     "metadata": {},
     "output_type": "execute_result"
    }
   ],
   "source": [
    "mean_squared_error(y_off_test, y_off_pred)"
   ]
  },
  {
   "cell_type": "code",
   "execution_count": 203,
   "metadata": {},
   "outputs": [
    {
     "name": "stderr",
     "output_type": "stream",
     "text": [
      "/Users/mounica/opt/anaconda3/lib/python3.7/site-packages/sklearn/ensemble/forest.py:245: FutureWarning: The default value of n_estimators will change from 10 in version 0.20 to 100 in 0.22.\n",
      "  \"10 in version 0.20 to 100 in 0.22.\", FutureWarning)\n"
     ]
    },
    {
     "name": "stdout",
     "output_type": "stream",
     "text": [
      "[20.2        24.5        50.22901016 37.         43.2        25.4\n",
      " 49.5        68.63952957 27.3        76.18666667]\n"
     ]
    },
    {
     "data": {
      "text/plain": [
       "array([22, 27, 85, 54, 47, 17, 33, 69, 28, 64])"
      ]
     },
     "execution_count": 203,
     "metadata": {},
     "output_type": "execute_result"
    }
   ],
   "source": [
    "from sklearn.ensemble import RandomForestRegressor\n",
    "model_rf =RandomForestRegressor()\n",
    "model_rf.fit(X_off_train, y_off_train)\n",
    "y_off_pred = model_rf.predict(X_off_test)\n",
    "print(y_off_pred[:10])\n",
    "y_off_test[:10]"
   ]
  },
  {
   "cell_type": "code",
   "execution_count": 204,
   "metadata": {},
   "outputs": [
    {
     "data": {
      "text/plain": [
       "138.26048449195727"
      ]
     },
     "execution_count": 204,
     "metadata": {},
     "output_type": "execute_result"
    }
   ],
   "source": [
    "mean_squared_error(y_off_test, y_off_pred)"
   ]
  },
  {
   "cell_type": "code",
   "execution_count": null,
   "metadata": {},
   "outputs": [],
   "source": [
    "#Building optimal Backward Elimination\n",
    "#Adding X0 = 1, by creating a new column for X\n",
    "X_off = np.append(arr = np.ones((382329, 1)).astype(int), values = X_off, axis =1)\n",
    "X_Opt_off = X_off[:, [0, 1, 2, 3, 4]]\n",
    "X_Opt_off = np.array(X_Opt_off, dtype=float)"
   ]
  },
  {
   "cell_type": "code",
   "execution_count": null,
   "metadata": {},
   "outputs": [],
   "source": [
    "#fitting backward elimination step1 to regressor\n",
    "import statsmodels.api as sm\n",
    "regressor_OLS = sm.OLS(endog = Y_off, exog = X_Opt_off).fit()\n",
    "regressor_OLS.summary()"
   ]
  },
  {
   "cell_type": "code",
   "execution_count": null,
   "metadata": {},
   "outputs": [],
   "source": [
    "X_Opt_off = X_off[:, [0, 2, 3, 4, 5, 6, 7, 8, 9, 10]]\n",
    "X_Opt_off = np.array(X_Opt_off, dtype=float)\n",
    "#fitting backward elimination step1 to regressor\n",
    "import statsmodels.api as sm\n",
    "regressor_OLS = sm.OLS(endog = Y_off, exog = X_Opt_off).fit()\n",
    "regressor_OLS.summary()"
   ]
  },
  {
   "cell_type": "code",
   "execution_count": 244,
   "metadata": {},
   "outputs": [],
   "source": [
    "from sklearn.metrics import r2_score"
   ]
  },
  {
   "cell_type": "code",
   "execution_count": 249,
   "metadata": {},
   "outputs": [
    {
     "data": {
      "text/plain": [
       "0.6959268198259503"
      ]
     },
     "execution_count": 249,
     "metadata": {},
     "output_type": "execute_result"
    }
   ],
   "source": [
    "r2_score(y_off_test, y_off_pred)"
   ]
  },
  {
   "cell_type": "code",
   "execution_count": null,
   "metadata": {},
   "outputs": [],
   "source": []
  },
  {
   "cell_type": "code",
   "execution_count": null,
   "metadata": {},
   "outputs": [],
   "source": []
  },
  {
   "cell_type": "code",
   "execution_count": null,
   "metadata": {},
   "outputs": [],
   "source": []
  },
  {
   "cell_type": "code",
   "execution_count": null,
   "metadata": {},
   "outputs": [],
   "source": []
  }
 ],
 "metadata": {
  "kernelspec": {
   "display_name": "Python 3",
   "language": "python",
   "name": "python3"
  },
  "language_info": {
   "codemirror_mode": {
    "name": "ipython",
    "version": 3
   },
   "file_extension": ".py",
   "mimetype": "text/x-python",
   "name": "python",
   "nbconvert_exporter": "python",
   "pygments_lexer": "ipython3",
   "version": "3.7.4"
  }
 },
 "nbformat": 4,
 "nbformat_minor": 2
}
